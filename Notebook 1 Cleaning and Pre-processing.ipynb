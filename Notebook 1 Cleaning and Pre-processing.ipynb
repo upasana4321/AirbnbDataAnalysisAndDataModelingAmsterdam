{
 "cells": [
  {
   "cell_type": "markdown",
   "metadata": {},
   "source": [
    "# EXPLORATORY DATA ANALYSIS AND DATA MODEING OF AIRBNB DATASET"
   ]
  },
  {
   "cell_type": "markdown",
   "metadata": {},
   "source": [
    "## MOTIVATION"
   ]
  },
  {
   "cell_type": "markdown",
   "metadata": {},
   "source": [
    "The aim of this project is to analyze prices and avilability of Airbnb listings in Amsterdam through exploratory data analysis, focusing primarily on comparing average prices (per person per night) in different city, and trying to identify value-adding features that might be interesting to the visitors of Amsterdam to rent an Airbnb and the mean difference in the price based on several factors.\n",
    "\n",
    "The analysis provides a general overview of the Airbnb market in Amsterdam, and can also serve as a guide to all future visitors, as it answers questions such as where to stay if travelling on budget.\n",
    "\n",
    "I feel that location is one of the principle factors affecting Airbnb costs, however fair and square of individual postings there are clearly a few other separating viewpoints. In my analysis I intend to distinguish highlights that increase the value of Airbnb condos, by investigating the data contained in listings’ textual descriptions. My answer addresses, for example, how much extra on normal one needs to pay if a loft is advertised as luxurious, spacious, cosy, modern, and so on., or how large is the premium for having a garden or porch, or quite certain to Amsterdam, the amount progressively costly it is to remain only close to a channel, or on it, in a houseboat.In the last piece of my analysis I am also trying to distinguish several amenities that increases the price if Airbnb. \n",
    "\n",
    "My porject is divided in three notebooks.\n",
    "- Notebook 1: This notebook focuses on cleaning and pre-processing the data for Exploratory Data Analysis. \n",
    "- Notebook 2: Exploratory Data Analysis is done in this section to understand the data in a visualized form. \n",
    "- Notebook 3: Different models are built in this notebook using various Machine Learning Algorithms and selecting the best   algorithm for predicting the price of an Airbnb listing.  \n"
   ]
  },
  {
   "cell_type": "code",
   "execution_count": 1,
   "metadata": {},
   "outputs": [],
   "source": [
    "#Importing Libraries\n",
    "import pandas as pd\n",
    "import numpy as np\n",
    "import matplotlib.pyplot as plt\n",
    "import seaborn as sns\n",
    "import warnings\n",
    "warnings.filterwarnings('ignore')"
   ]
  },
  {
   "cell_type": "code",
   "execution_count": 2,
   "metadata": {},
   "outputs": [],
   "source": [
    "#REading the data \n",
    "airbnb_data = pd.read_csv(r'C:\\Users\\upasa\\OneDrive\\Desktop\\Coding Challenge\\listings.csv')"
   ]
  },
  {
   "cell_type": "code",
   "execution_count": 3,
   "metadata": {},
   "outputs": [
    {
     "data": {
      "text/plain": [
       "(20677, 106)"
      ]
     },
     "execution_count": 3,
     "metadata": {},
     "output_type": "execute_result"
    }
   ],
   "source": [
    "# Calculating total no of rows and columns\n",
    "airbnb_data.shape"
   ]
  },
  {
   "cell_type": "code",
   "execution_count": 4,
   "metadata": {
    "scrolled": true
   },
   "outputs": [
    {
     "data": {
      "text/html": [
       "<div>\n",
       "<style scoped>\n",
       "    .dataframe tbody tr th:only-of-type {\n",
       "        vertical-align: middle;\n",
       "    }\n",
       "\n",
       "    .dataframe tbody tr th {\n",
       "        vertical-align: top;\n",
       "    }\n",
       "\n",
       "    .dataframe thead th {\n",
       "        text-align: right;\n",
       "    }\n",
       "</style>\n",
       "<table border=\"1\" class=\"dataframe\">\n",
       "  <thead>\n",
       "    <tr style=\"text-align: right;\">\n",
       "      <th></th>\n",
       "      <th>id</th>\n",
       "      <th>listing_url</th>\n",
       "      <th>scrape_id</th>\n",
       "      <th>last_scraped</th>\n",
       "      <th>name</th>\n",
       "      <th>summary</th>\n",
       "      <th>space</th>\n",
       "      <th>description</th>\n",
       "      <th>experiences_offered</th>\n",
       "      <th>neighborhood_overview</th>\n",
       "      <th>...</th>\n",
       "      <th>instant_bookable</th>\n",
       "      <th>is_business_travel_ready</th>\n",
       "      <th>cancellation_policy</th>\n",
       "      <th>require_guest_profile_picture</th>\n",
       "      <th>require_guest_phone_verification</th>\n",
       "      <th>calculated_host_listings_count</th>\n",
       "      <th>calculated_host_listings_count_entire_homes</th>\n",
       "      <th>calculated_host_listings_count_private_rooms</th>\n",
       "      <th>calculated_host_listings_count_shared_rooms</th>\n",
       "      <th>reviews_per_month</th>\n",
       "    </tr>\n",
       "  </thead>\n",
       "  <tbody>\n",
       "    <tr>\n",
       "      <th>0</th>\n",
       "      <td>2818</td>\n",
       "      <td>https://www.airbnb.com/rooms/2818</td>\n",
       "      <td>20190808195507</td>\n",
       "      <td>2019-08-09</td>\n",
       "      <td>Quiet Garden View Room &amp; Super Fast WiFi</td>\n",
       "      <td>Quiet Garden View Room &amp; Super Fast WiFi</td>\n",
       "      <td>I'm renting a bedroom (room overlooking the ga...</td>\n",
       "      <td>Quiet Garden View Room &amp; Super Fast WiFi I'm r...</td>\n",
       "      <td>none</td>\n",
       "      <td>Indische Buurt (\"Indies Neighborhood\") is a ne...</td>\n",
       "      <td>...</td>\n",
       "      <td>t</td>\n",
       "      <td>f</td>\n",
       "      <td>strict_14_with_grace_period</td>\n",
       "      <td>f</td>\n",
       "      <td>f</td>\n",
       "      <td>1</td>\n",
       "      <td>0</td>\n",
       "      <td>1</td>\n",
       "      <td>0</td>\n",
       "      <td>2.12</td>\n",
       "    </tr>\n",
       "    <tr>\n",
       "      <th>1</th>\n",
       "      <td>20168</td>\n",
       "      <td>https://www.airbnb.com/rooms/20168</td>\n",
       "      <td>20190808195507</td>\n",
       "      <td>2019-08-09</td>\n",
       "      <td>Studio with private bathroom in the centre 1</td>\n",
       "      <td>Cozy studio on your own private floor, 100% in...</td>\n",
       "      <td>For those who like all facets of city life. In...</td>\n",
       "      <td>Cozy studio on your own private floor, 100% in...</td>\n",
       "      <td>none</td>\n",
       "      <td>Located just in between famous central canals....</td>\n",
       "      <td>...</td>\n",
       "      <td>f</td>\n",
       "      <td>f</td>\n",
       "      <td>strict_14_with_grace_period</td>\n",
       "      <td>f</td>\n",
       "      <td>f</td>\n",
       "      <td>2</td>\n",
       "      <td>0</td>\n",
       "      <td>2</td>\n",
       "      <td>0</td>\n",
       "      <td>2.46</td>\n",
       "    </tr>\n",
       "    <tr>\n",
       "      <th>2</th>\n",
       "      <td>25428</td>\n",
       "      <td>https://www.airbnb.com/rooms/25428</td>\n",
       "      <td>20190808195507</td>\n",
       "      <td>2019-08-09</td>\n",
       "      <td>Lovely apt in City Centre (w.lift) near Jordaan</td>\n",
       "      <td>NaN</td>\n",
       "      <td>This nicely furnished, newly renovated apt  is...</td>\n",
       "      <td>This nicely furnished, newly renovated apt  is...</td>\n",
       "      <td>none</td>\n",
       "      <td>NaN</td>\n",
       "      <td>...</td>\n",
       "      <td>f</td>\n",
       "      <td>f</td>\n",
       "      <td>strict_14_with_grace_period</td>\n",
       "      <td>f</td>\n",
       "      <td>f</td>\n",
       "      <td>2</td>\n",
       "      <td>2</td>\n",
       "      <td>0</td>\n",
       "      <td>0</td>\n",
       "      <td>0.16</td>\n",
       "    </tr>\n",
       "    <tr>\n",
       "      <th>3</th>\n",
       "      <td>27886</td>\n",
       "      <td>https://www.airbnb.com/rooms/27886</td>\n",
       "      <td>20190808195507</td>\n",
       "      <td>2019-08-09</td>\n",
       "      <td>Romantic, stylish B&amp;B houseboat in canal district</td>\n",
       "      <td>Stylish and romantic houseboat on fantastic hi...</td>\n",
       "      <td>For a romantic couple: A beautifully restored ...</td>\n",
       "      <td>Stylish and romantic houseboat on fantastic hi...</td>\n",
       "      <td>none</td>\n",
       "      <td>Central, quiet, safe, clean and beautiful.</td>\n",
       "      <td>...</td>\n",
       "      <td>t</td>\n",
       "      <td>f</td>\n",
       "      <td>strict_14_with_grace_period</td>\n",
       "      <td>f</td>\n",
       "      <td>f</td>\n",
       "      <td>1</td>\n",
       "      <td>0</td>\n",
       "      <td>1</td>\n",
       "      <td>0</td>\n",
       "      <td>2.11</td>\n",
       "    </tr>\n",
       "    <tr>\n",
       "      <th>4</th>\n",
       "      <td>28871</td>\n",
       "      <td>https://www.airbnb.com/rooms/28871</td>\n",
       "      <td>20190808195507</td>\n",
       "      <td>2019-08-09</td>\n",
       "      <td>Comfortable double room</td>\n",
       "      <td>NaN</td>\n",
       "      <td>In a monumental house right in the center of A...</td>\n",
       "      <td>In a monumental house right in the center of A...</td>\n",
       "      <td>none</td>\n",
       "      <td>NaN</td>\n",
       "      <td>...</td>\n",
       "      <td>f</td>\n",
       "      <td>f</td>\n",
       "      <td>moderate</td>\n",
       "      <td>f</td>\n",
       "      <td>f</td>\n",
       "      <td>3</td>\n",
       "      <td>0</td>\n",
       "      <td>3</td>\n",
       "      <td>0</td>\n",
       "      <td>2.59</td>\n",
       "    </tr>\n",
       "  </tbody>\n",
       "</table>\n",
       "<p>5 rows × 106 columns</p>\n",
       "</div>"
      ],
      "text/plain": [
       "      id                         listing_url       scrape_id last_scraped  \\\n",
       "0   2818   https://www.airbnb.com/rooms/2818  20190808195507   2019-08-09   \n",
       "1  20168  https://www.airbnb.com/rooms/20168  20190808195507   2019-08-09   \n",
       "2  25428  https://www.airbnb.com/rooms/25428  20190808195507   2019-08-09   \n",
       "3  27886  https://www.airbnb.com/rooms/27886  20190808195507   2019-08-09   \n",
       "4  28871  https://www.airbnb.com/rooms/28871  20190808195507   2019-08-09   \n",
       "\n",
       "                                                name  \\\n",
       "0           Quiet Garden View Room & Super Fast WiFi   \n",
       "1       Studio with private bathroom in the centre 1   \n",
       "2    Lovely apt in City Centre (w.lift) near Jordaan   \n",
       "3  Romantic, stylish B&B houseboat in canal district   \n",
       "4                            Comfortable double room   \n",
       "\n",
       "                                             summary  \\\n",
       "0           Quiet Garden View Room & Super Fast WiFi   \n",
       "1  Cozy studio on your own private floor, 100% in...   \n",
       "2                                                NaN   \n",
       "3  Stylish and romantic houseboat on fantastic hi...   \n",
       "4                                                NaN   \n",
       "\n",
       "                                               space  \\\n",
       "0  I'm renting a bedroom (room overlooking the ga...   \n",
       "1  For those who like all facets of city life. In...   \n",
       "2  This nicely furnished, newly renovated apt  is...   \n",
       "3  For a romantic couple: A beautifully restored ...   \n",
       "4  In a monumental house right in the center of A...   \n",
       "\n",
       "                                         description experiences_offered  \\\n",
       "0  Quiet Garden View Room & Super Fast WiFi I'm r...                none   \n",
       "1  Cozy studio on your own private floor, 100% in...                none   \n",
       "2  This nicely furnished, newly renovated apt  is...                none   \n",
       "3  Stylish and romantic houseboat on fantastic hi...                none   \n",
       "4  In a monumental house right in the center of A...                none   \n",
       "\n",
       "                               neighborhood_overview        ...          \\\n",
       "0  Indische Buurt (\"Indies Neighborhood\") is a ne...        ...           \n",
       "1  Located just in between famous central canals....        ...           \n",
       "2                                                NaN        ...           \n",
       "3         Central, quiet, safe, clean and beautiful.        ...           \n",
       "4                                                NaN        ...           \n",
       "\n",
       "  instant_bookable is_business_travel_ready          cancellation_policy  \\\n",
       "0                t                        f  strict_14_with_grace_period   \n",
       "1                f                        f  strict_14_with_grace_period   \n",
       "2                f                        f  strict_14_with_grace_period   \n",
       "3                t                        f  strict_14_with_grace_period   \n",
       "4                f                        f                     moderate   \n",
       "\n",
       "  require_guest_profile_picture require_guest_phone_verification  \\\n",
       "0                             f                                f   \n",
       "1                             f                                f   \n",
       "2                             f                                f   \n",
       "3                             f                                f   \n",
       "4                             f                                f   \n",
       "\n",
       "   calculated_host_listings_count  \\\n",
       "0                               1   \n",
       "1                               2   \n",
       "2                               2   \n",
       "3                               1   \n",
       "4                               3   \n",
       "\n",
       "   calculated_host_listings_count_entire_homes  \\\n",
       "0                                            0   \n",
       "1                                            0   \n",
       "2                                            2   \n",
       "3                                            0   \n",
       "4                                            0   \n",
       "\n",
       "  calculated_host_listings_count_private_rooms  \\\n",
       "0                                            1   \n",
       "1                                            2   \n",
       "2                                            0   \n",
       "3                                            1   \n",
       "4                                            3   \n",
       "\n",
       "   calculated_host_listings_count_shared_rooms  reviews_per_month  \n",
       "0                                            0               2.12  \n",
       "1                                            0               2.46  \n",
       "2                                            0               0.16  \n",
       "3                                            0               2.11  \n",
       "4                                            0               2.59  \n",
       "\n",
       "[5 rows x 106 columns]"
      ]
     },
     "execution_count": 4,
     "metadata": {},
     "output_type": "execute_result"
    }
   ],
   "source": [
    "#Checking data\n",
    "airbnb_data.head()"
   ]
  },
  {
   "cell_type": "markdown",
   "metadata": {},
   "source": [
    "With this, I am not able to access all the columns in the datset. I will look into 10 columns at a time. "
   ]
  },
  {
   "cell_type": "code",
   "execution_count": 5,
   "metadata": {},
   "outputs": [
    {
     "data": {
      "text/html": [
       "<div>\n",
       "<style scoped>\n",
       "    .dataframe tbody tr th:only-of-type {\n",
       "        vertical-align: middle;\n",
       "    }\n",
       "\n",
       "    .dataframe tbody tr th {\n",
       "        vertical-align: top;\n",
       "    }\n",
       "\n",
       "    .dataframe thead th {\n",
       "        text-align: right;\n",
       "    }\n",
       "</style>\n",
       "<table border=\"1\" class=\"dataframe\">\n",
       "  <thead>\n",
       "    <tr style=\"text-align: right;\">\n",
       "      <th></th>\n",
       "      <th>id</th>\n",
       "      <th>listing_url</th>\n",
       "      <th>scrape_id</th>\n",
       "      <th>last_scraped</th>\n",
       "      <th>name</th>\n",
       "      <th>summary</th>\n",
       "      <th>space</th>\n",
       "      <th>description</th>\n",
       "      <th>experiences_offered</th>\n",
       "      <th>neighborhood_overview</th>\n",
       "    </tr>\n",
       "  </thead>\n",
       "  <tbody>\n",
       "    <tr>\n",
       "      <th>0</th>\n",
       "      <td>2818</td>\n",
       "      <td>https://www.airbnb.com/rooms/2818</td>\n",
       "      <td>20190808195507</td>\n",
       "      <td>2019-08-09</td>\n",
       "      <td>Quiet Garden View Room &amp; Super Fast WiFi</td>\n",
       "      <td>Quiet Garden View Room &amp; Super Fast WiFi</td>\n",
       "      <td>I'm renting a bedroom (room overlooking the ga...</td>\n",
       "      <td>Quiet Garden View Room &amp; Super Fast WiFi I'm r...</td>\n",
       "      <td>none</td>\n",
       "      <td>Indische Buurt (\"Indies Neighborhood\") is a ne...</td>\n",
       "    </tr>\n",
       "  </tbody>\n",
       "</table>\n",
       "</div>"
      ],
      "text/plain": [
       "     id                        listing_url       scrape_id last_scraped  \\\n",
       "0  2818  https://www.airbnb.com/rooms/2818  20190808195507   2019-08-09   \n",
       "\n",
       "                                       name  \\\n",
       "0  Quiet Garden View Room & Super Fast WiFi   \n",
       "\n",
       "                                    summary  \\\n",
       "0  Quiet Garden View Room & Super Fast WiFi   \n",
       "\n",
       "                                               space  \\\n",
       "0  I'm renting a bedroom (room overlooking the ga...   \n",
       "\n",
       "                                         description experiences_offered  \\\n",
       "0  Quiet Garden View Room & Super Fast WiFi I'm r...                none   \n",
       "\n",
       "                               neighborhood_overview  \n",
       "0  Indische Buurt (\"Indies Neighborhood\") is a ne...  "
      ]
     },
     "execution_count": 5,
     "metadata": {},
     "output_type": "execute_result"
    }
   ],
   "source": [
    "airbnb_data[list(airbnb_data.columns)[:10]].head(1)"
   ]
  },
  {
   "cell_type": "code",
   "execution_count": 6,
   "metadata": {},
   "outputs": [
    {
     "data": {
      "text/html": [
       "<div>\n",
       "<style scoped>\n",
       "    .dataframe tbody tr th:only-of-type {\n",
       "        vertical-align: middle;\n",
       "    }\n",
       "\n",
       "    .dataframe tbody tr th {\n",
       "        vertical-align: top;\n",
       "    }\n",
       "\n",
       "    .dataframe thead th {\n",
       "        text-align: right;\n",
       "    }\n",
       "</style>\n",
       "<table border=\"1\" class=\"dataframe\">\n",
       "  <thead>\n",
       "    <tr style=\"text-align: right;\">\n",
       "      <th></th>\n",
       "      <th>notes</th>\n",
       "      <th>transit</th>\n",
       "      <th>access</th>\n",
       "      <th>interaction</th>\n",
       "      <th>house_rules</th>\n",
       "      <th>thumbnail_url</th>\n",
       "      <th>medium_url</th>\n",
       "      <th>picture_url</th>\n",
       "      <th>xl_picture_url</th>\n",
       "      <th>host_id</th>\n",
       "    </tr>\n",
       "  </thead>\n",
       "  <tbody>\n",
       "    <tr>\n",
       "      <th>0</th>\n",
       "      <td>From week 38 to week 47 maintenance work to th...</td>\n",
       "      <td>The neighbourhood is well served by 24 hours p...</td>\n",
       "      <td>NaN</td>\n",
       "      <td>NaN</td>\n",
       "      <td>Please: - Leave your shoes in the entrance  - ...</td>\n",
       "      <td>NaN</td>\n",
       "      <td>NaN</td>\n",
       "      <td>https://a0.muscache.com/im/pictures/10272854/8...</td>\n",
       "      <td>NaN</td>\n",
       "      <td>3159</td>\n",
       "    </tr>\n",
       "  </tbody>\n",
       "</table>\n",
       "</div>"
      ],
      "text/plain": [
       "                                               notes  \\\n",
       "0  From week 38 to week 47 maintenance work to th...   \n",
       "\n",
       "                                             transit access interaction  \\\n",
       "0  The neighbourhood is well served by 24 hours p...    NaN         NaN   \n",
       "\n",
       "                                         house_rules  thumbnail_url  \\\n",
       "0  Please: - Leave your shoes in the entrance  - ...            NaN   \n",
       "\n",
       "   medium_url                                        picture_url  \\\n",
       "0         NaN  https://a0.muscache.com/im/pictures/10272854/8...   \n",
       "\n",
       "   xl_picture_url  host_id  \n",
       "0             NaN     3159  "
      ]
     },
     "execution_count": 6,
     "metadata": {},
     "output_type": "execute_result"
    }
   ],
   "source": [
    "airbnb_data[list(airbnb_data.columns)[10:20]].head(1)"
   ]
  },
  {
   "cell_type": "code",
   "execution_count": 7,
   "metadata": {},
   "outputs": [
    {
     "data": {
      "text/html": [
       "<div>\n",
       "<style scoped>\n",
       "    .dataframe tbody tr th:only-of-type {\n",
       "        vertical-align: middle;\n",
       "    }\n",
       "\n",
       "    .dataframe tbody tr th {\n",
       "        vertical-align: top;\n",
       "    }\n",
       "\n",
       "    .dataframe thead th {\n",
       "        text-align: right;\n",
       "    }\n",
       "</style>\n",
       "<table border=\"1\" class=\"dataframe\">\n",
       "  <thead>\n",
       "    <tr style=\"text-align: right;\">\n",
       "      <th></th>\n",
       "      <th>host_url</th>\n",
       "      <th>host_name</th>\n",
       "      <th>host_since</th>\n",
       "      <th>host_location</th>\n",
       "      <th>host_about</th>\n",
       "      <th>host_response_time</th>\n",
       "      <th>host_response_rate</th>\n",
       "      <th>host_acceptance_rate</th>\n",
       "      <th>host_is_superhost</th>\n",
       "      <th>host_thumbnail_url</th>\n",
       "    </tr>\n",
       "  </thead>\n",
       "  <tbody>\n",
       "    <tr>\n",
       "      <th>0</th>\n",
       "      <td>https://www.airbnb.com/users/show/3159</td>\n",
       "      <td>Daniel</td>\n",
       "      <td>2008-09-24</td>\n",
       "      <td>Amsterdam, Noord-Holland, The Netherlands</td>\n",
       "      <td>Upon arriving in Amsterdam, one can imagine as...</td>\n",
       "      <td>within an hour</td>\n",
       "      <td>100%</td>\n",
       "      <td>NaN</td>\n",
       "      <td>t</td>\n",
       "      <td>https://a0.muscache.com/im/users/3159/profile_...</td>\n",
       "    </tr>\n",
       "  </tbody>\n",
       "</table>\n",
       "</div>"
      ],
      "text/plain": [
       "                                 host_url host_name  host_since  \\\n",
       "0  https://www.airbnb.com/users/show/3159    Daniel  2008-09-24   \n",
       "\n",
       "                               host_location  \\\n",
       "0  Amsterdam, Noord-Holland, The Netherlands   \n",
       "\n",
       "                                          host_about host_response_time  \\\n",
       "0  Upon arriving in Amsterdam, one can imagine as...     within an hour   \n",
       "\n",
       "  host_response_rate  host_acceptance_rate host_is_superhost  \\\n",
       "0               100%                   NaN                 t   \n",
       "\n",
       "                                  host_thumbnail_url  \n",
       "0  https://a0.muscache.com/im/users/3159/profile_...  "
      ]
     },
     "execution_count": 7,
     "metadata": {},
     "output_type": "execute_result"
    }
   ],
   "source": [
    "airbnb_data[list(airbnb_data.columns)[20:30]].head(1)"
   ]
  },
  {
   "cell_type": "code",
   "execution_count": 8,
   "metadata": {},
   "outputs": [
    {
     "data": {
      "text/html": [
       "<div>\n",
       "<style scoped>\n",
       "    .dataframe tbody tr th:only-of-type {\n",
       "        vertical-align: middle;\n",
       "    }\n",
       "\n",
       "    .dataframe tbody tr th {\n",
       "        vertical-align: top;\n",
       "    }\n",
       "\n",
       "    .dataframe thead th {\n",
       "        text-align: right;\n",
       "    }\n",
       "</style>\n",
       "<table border=\"1\" class=\"dataframe\">\n",
       "  <thead>\n",
       "    <tr style=\"text-align: right;\">\n",
       "      <th></th>\n",
       "      <th>host_picture_url</th>\n",
       "      <th>host_neighbourhood</th>\n",
       "      <th>host_listings_count</th>\n",
       "      <th>host_total_listings_count</th>\n",
       "      <th>host_verifications</th>\n",
       "      <th>host_has_profile_pic</th>\n",
       "      <th>host_identity_verified</th>\n",
       "      <th>street</th>\n",
       "      <th>neighbourhood</th>\n",
       "      <th>neighbourhood_cleansed</th>\n",
       "    </tr>\n",
       "  </thead>\n",
       "  <tbody>\n",
       "    <tr>\n",
       "      <th>0</th>\n",
       "      <td>https://a0.muscache.com/im/users/3159/profile_...</td>\n",
       "      <td>Indische Buurt</td>\n",
       "      <td>1.0</td>\n",
       "      <td>1.0</td>\n",
       "      <td>['email', 'phone', 'reviews', 'jumio', 'offlin...</td>\n",
       "      <td>t</td>\n",
       "      <td>f</td>\n",
       "      <td>Amsterdam, North Holland, Netherlands</td>\n",
       "      <td>Indische Buurt</td>\n",
       "      <td>Oostelijk Havengebied - Indische Buurt</td>\n",
       "    </tr>\n",
       "  </tbody>\n",
       "</table>\n",
       "</div>"
      ],
      "text/plain": [
       "                                    host_picture_url host_neighbourhood  \\\n",
       "0  https://a0.muscache.com/im/users/3159/profile_...     Indische Buurt   \n",
       "\n",
       "   host_listings_count  host_total_listings_count  \\\n",
       "0                  1.0                        1.0   \n",
       "\n",
       "                                  host_verifications host_has_profile_pic  \\\n",
       "0  ['email', 'phone', 'reviews', 'jumio', 'offlin...                    t   \n",
       "\n",
       "  host_identity_verified                                 street  \\\n",
       "0                      f  Amsterdam, North Holland, Netherlands   \n",
       "\n",
       "    neighbourhood                  neighbourhood_cleansed  \n",
       "0  Indische Buurt  Oostelijk Havengebied - Indische Buurt  "
      ]
     },
     "execution_count": 8,
     "metadata": {},
     "output_type": "execute_result"
    }
   ],
   "source": [
    "airbnb_data[list(airbnb_data.columns)[30:40]].head(1)"
   ]
  },
  {
   "cell_type": "code",
   "execution_count": 9,
   "metadata": {},
   "outputs": [
    {
     "data": {
      "text/html": [
       "<div>\n",
       "<style scoped>\n",
       "    .dataframe tbody tr th:only-of-type {\n",
       "        vertical-align: middle;\n",
       "    }\n",
       "\n",
       "    .dataframe tbody tr th {\n",
       "        vertical-align: top;\n",
       "    }\n",
       "\n",
       "    .dataframe thead th {\n",
       "        text-align: right;\n",
       "    }\n",
       "</style>\n",
       "<table border=\"1\" class=\"dataframe\">\n",
       "  <thead>\n",
       "    <tr style=\"text-align: right;\">\n",
       "      <th></th>\n",
       "      <th>neighbourhood_group_cleansed</th>\n",
       "      <th>city</th>\n",
       "      <th>state</th>\n",
       "      <th>zipcode</th>\n",
       "      <th>market</th>\n",
       "      <th>smart_location</th>\n",
       "      <th>country_code</th>\n",
       "      <th>country</th>\n",
       "      <th>latitude</th>\n",
       "      <th>longitude</th>\n",
       "    </tr>\n",
       "  </thead>\n",
       "  <tbody>\n",
       "    <tr>\n",
       "      <th>0</th>\n",
       "      <td>NaN</td>\n",
       "      <td>Amsterdam</td>\n",
       "      <td>North Holland</td>\n",
       "      <td>NaN</td>\n",
       "      <td>Amsterdam</td>\n",
       "      <td>Amsterdam, Netherlands</td>\n",
       "      <td>NL</td>\n",
       "      <td>Netherlands</td>\n",
       "      <td>52.36575</td>\n",
       "      <td>4.94142</td>\n",
       "    </tr>\n",
       "  </tbody>\n",
       "</table>\n",
       "</div>"
      ],
      "text/plain": [
       "   neighbourhood_group_cleansed       city          state zipcode     market  \\\n",
       "0                           NaN  Amsterdam  North Holland     NaN  Amsterdam   \n",
       "\n",
       "           smart_location country_code      country  latitude  longitude  \n",
       "0  Amsterdam, Netherlands           NL  Netherlands  52.36575    4.94142  "
      ]
     },
     "execution_count": 9,
     "metadata": {},
     "output_type": "execute_result"
    }
   ],
   "source": [
    "airbnb_data[list(airbnb_data.columns)[40:50]].head(1)"
   ]
  },
  {
   "cell_type": "code",
   "execution_count": 10,
   "metadata": {},
   "outputs": [
    {
     "data": {
      "text/html": [
       "<div>\n",
       "<style scoped>\n",
       "    .dataframe tbody tr th:only-of-type {\n",
       "        vertical-align: middle;\n",
       "    }\n",
       "\n",
       "    .dataframe tbody tr th {\n",
       "        vertical-align: top;\n",
       "    }\n",
       "\n",
       "    .dataframe thead th {\n",
       "        text-align: right;\n",
       "    }\n",
       "</style>\n",
       "<table border=\"1\" class=\"dataframe\">\n",
       "  <thead>\n",
       "    <tr style=\"text-align: right;\">\n",
       "      <th></th>\n",
       "      <th>is_location_exact</th>\n",
       "      <th>property_type</th>\n",
       "      <th>room_type</th>\n",
       "      <th>accommodates</th>\n",
       "      <th>bathrooms</th>\n",
       "      <th>bedrooms</th>\n",
       "      <th>beds</th>\n",
       "      <th>bed_type</th>\n",
       "      <th>amenities</th>\n",
       "      <th>square_feet</th>\n",
       "    </tr>\n",
       "  </thead>\n",
       "  <tbody>\n",
       "    <tr>\n",
       "      <th>0</th>\n",
       "      <td>f</td>\n",
       "      <td>Apartment</td>\n",
       "      <td>Private room</td>\n",
       "      <td>2</td>\n",
       "      <td>1.5</td>\n",
       "      <td>1.0</td>\n",
       "      <td>2.0</td>\n",
       "      <td>Real Bed</td>\n",
       "      <td>{Internet,Wifi,\"Paid parking off premises\",\"Bu...</td>\n",
       "      <td>NaN</td>\n",
       "    </tr>\n",
       "  </tbody>\n",
       "</table>\n",
       "</div>"
      ],
      "text/plain": [
       "  is_location_exact property_type     room_type  accommodates  bathrooms  \\\n",
       "0                 f     Apartment  Private room             2        1.5   \n",
       "\n",
       "   bedrooms  beds  bed_type  \\\n",
       "0       1.0   2.0  Real Bed   \n",
       "\n",
       "                                           amenities  square_feet  \n",
       "0  {Internet,Wifi,\"Paid parking off premises\",\"Bu...          NaN  "
      ]
     },
     "execution_count": 10,
     "metadata": {},
     "output_type": "execute_result"
    }
   ],
   "source": [
    "airbnb_data[list(airbnb_data.columns)[50:60]].head(1)"
   ]
  },
  {
   "cell_type": "code",
   "execution_count": 11,
   "metadata": {},
   "outputs": [
    {
     "data": {
      "text/html": [
       "<div>\n",
       "<style scoped>\n",
       "    .dataframe tbody tr th:only-of-type {\n",
       "        vertical-align: middle;\n",
       "    }\n",
       "\n",
       "    .dataframe tbody tr th {\n",
       "        vertical-align: top;\n",
       "    }\n",
       "\n",
       "    .dataframe thead th {\n",
       "        text-align: right;\n",
       "    }\n",
       "</style>\n",
       "<table border=\"1\" class=\"dataframe\">\n",
       "  <thead>\n",
       "    <tr style=\"text-align: right;\">\n",
       "      <th></th>\n",
       "      <th>price</th>\n",
       "      <th>weekly_price</th>\n",
       "      <th>monthly_price</th>\n",
       "      <th>security_deposit</th>\n",
       "      <th>cleaning_fee</th>\n",
       "      <th>guests_included</th>\n",
       "      <th>extra_people</th>\n",
       "      <th>minimum_nights</th>\n",
       "      <th>maximum_nights</th>\n",
       "      <th>minimum_minimum_nights</th>\n",
       "    </tr>\n",
       "  </thead>\n",
       "  <tbody>\n",
       "    <tr>\n",
       "      <th>0</th>\n",
       "      <td>$59.00</td>\n",
       "      <td>NaN</td>\n",
       "      <td>$1,500.00</td>\n",
       "      <td>$200.00</td>\n",
       "      <td>$60.00</td>\n",
       "      <td>1</td>\n",
       "      <td>$20.00</td>\n",
       "      <td>3</td>\n",
       "      <td>15</td>\n",
       "      <td>3</td>\n",
       "    </tr>\n",
       "  </tbody>\n",
       "</table>\n",
       "</div>"
      ],
      "text/plain": [
       "    price weekly_price monthly_price security_deposit cleaning_fee  \\\n",
       "0  $59.00          NaN     $1,500.00          $200.00       $60.00   \n",
       "\n",
       "   guests_included extra_people  minimum_nights  maximum_nights  \\\n",
       "0                1       $20.00               3              15   \n",
       "\n",
       "   minimum_minimum_nights  \n",
       "0                       3  "
      ]
     },
     "execution_count": 11,
     "metadata": {},
     "output_type": "execute_result"
    }
   ],
   "source": [
    "airbnb_data[list(airbnb_data.columns)[60:70]].head(1)"
   ]
  },
  {
   "cell_type": "code",
   "execution_count": 12,
   "metadata": {},
   "outputs": [
    {
     "data": {
      "text/html": [
       "<div>\n",
       "<style scoped>\n",
       "    .dataframe tbody tr th:only-of-type {\n",
       "        vertical-align: middle;\n",
       "    }\n",
       "\n",
       "    .dataframe tbody tr th {\n",
       "        vertical-align: top;\n",
       "    }\n",
       "\n",
       "    .dataframe thead th {\n",
       "        text-align: right;\n",
       "    }\n",
       "</style>\n",
       "<table border=\"1\" class=\"dataframe\">\n",
       "  <thead>\n",
       "    <tr style=\"text-align: right;\">\n",
       "      <th></th>\n",
       "      <th>maximum_minimum_nights</th>\n",
       "      <th>minimum_maximum_nights</th>\n",
       "      <th>maximum_maximum_nights</th>\n",
       "      <th>minimum_nights_avg_ntm</th>\n",
       "      <th>maximum_nights_avg_ntm</th>\n",
       "      <th>calendar_updated</th>\n",
       "      <th>has_availability</th>\n",
       "      <th>availability_30</th>\n",
       "      <th>availability_60</th>\n",
       "      <th>availability_90</th>\n",
       "    </tr>\n",
       "  </thead>\n",
       "  <tbody>\n",
       "    <tr>\n",
       "      <th>0</th>\n",
       "      <td>3</td>\n",
       "      <td>15</td>\n",
       "      <td>15</td>\n",
       "      <td>3.0</td>\n",
       "      <td>15.0</td>\n",
       "      <td>today</td>\n",
       "      <td>t</td>\n",
       "      <td>8</td>\n",
       "      <td>18</td>\n",
       "      <td>43</td>\n",
       "    </tr>\n",
       "  </tbody>\n",
       "</table>\n",
       "</div>"
      ],
      "text/plain": [
       "   maximum_minimum_nights  minimum_maximum_nights  maximum_maximum_nights  \\\n",
       "0                       3                      15                      15   \n",
       "\n",
       "   minimum_nights_avg_ntm  maximum_nights_avg_ntm calendar_updated  \\\n",
       "0                     3.0                    15.0            today   \n",
       "\n",
       "  has_availability  availability_30  availability_60  availability_90  \n",
       "0                t                8               18               43  "
      ]
     },
     "execution_count": 12,
     "metadata": {},
     "output_type": "execute_result"
    }
   ],
   "source": [
    "airbnb_data[list(airbnb_data.columns)[70:80]].head(1)"
   ]
  },
  {
   "cell_type": "code",
   "execution_count": 13,
   "metadata": {},
   "outputs": [
    {
     "data": {
      "text/html": [
       "<div>\n",
       "<style scoped>\n",
       "    .dataframe tbody tr th:only-of-type {\n",
       "        vertical-align: middle;\n",
       "    }\n",
       "\n",
       "    .dataframe tbody tr th {\n",
       "        vertical-align: top;\n",
       "    }\n",
       "\n",
       "    .dataframe thead th {\n",
       "        text-align: right;\n",
       "    }\n",
       "</style>\n",
       "<table border=\"1\" class=\"dataframe\">\n",
       "  <thead>\n",
       "    <tr style=\"text-align: right;\">\n",
       "      <th></th>\n",
       "      <th>availability_365</th>\n",
       "      <th>calendar_last_scraped</th>\n",
       "      <th>number_of_reviews</th>\n",
       "      <th>number_of_reviews_ltm</th>\n",
       "      <th>first_review</th>\n",
       "      <th>last_review</th>\n",
       "      <th>review_scores_rating</th>\n",
       "      <th>review_scores_accuracy</th>\n",
       "      <th>review_scores_cleanliness</th>\n",
       "      <th>review_scores_checkin</th>\n",
       "    </tr>\n",
       "  </thead>\n",
       "  <tbody>\n",
       "    <tr>\n",
       "      <th>0</th>\n",
       "      <td>89</td>\n",
       "      <td>2019-08-09</td>\n",
       "      <td>267</td>\n",
       "      <td>30</td>\n",
       "      <td>2009-03-30</td>\n",
       "      <td>2019-08-05</td>\n",
       "      <td>98.0</td>\n",
       "      <td>10.0</td>\n",
       "      <td>10.0</td>\n",
       "      <td>10.0</td>\n",
       "    </tr>\n",
       "  </tbody>\n",
       "</table>\n",
       "</div>"
      ],
      "text/plain": [
       "   availability_365 calendar_last_scraped  number_of_reviews  \\\n",
       "0                89            2019-08-09                267   \n",
       "\n",
       "   number_of_reviews_ltm first_review last_review  review_scores_rating  \\\n",
       "0                     30   2009-03-30  2019-08-05                  98.0   \n",
       "\n",
       "   review_scores_accuracy  review_scores_cleanliness  review_scores_checkin  \n",
       "0                    10.0                       10.0                   10.0  "
      ]
     },
     "execution_count": 13,
     "metadata": {},
     "output_type": "execute_result"
    }
   ],
   "source": [
    "airbnb_data[list(airbnb_data.columns)[80:90]].head(1)"
   ]
  },
  {
   "cell_type": "code",
   "execution_count": 14,
   "metadata": {},
   "outputs": [
    {
     "data": {
      "text/html": [
       "<div>\n",
       "<style scoped>\n",
       "    .dataframe tbody tr th:only-of-type {\n",
       "        vertical-align: middle;\n",
       "    }\n",
       "\n",
       "    .dataframe tbody tr th {\n",
       "        vertical-align: top;\n",
       "    }\n",
       "\n",
       "    .dataframe thead th {\n",
       "        text-align: right;\n",
       "    }\n",
       "</style>\n",
       "<table border=\"1\" class=\"dataframe\">\n",
       "  <thead>\n",
       "    <tr style=\"text-align: right;\">\n",
       "      <th></th>\n",
       "      <th>review_scores_communication</th>\n",
       "      <th>review_scores_location</th>\n",
       "      <th>review_scores_value</th>\n",
       "      <th>requires_license</th>\n",
       "      <th>license</th>\n",
       "      <th>jurisdiction_names</th>\n",
       "      <th>instant_bookable</th>\n",
       "      <th>is_business_travel_ready</th>\n",
       "      <th>cancellation_policy</th>\n",
       "      <th>require_guest_profile_picture</th>\n",
       "    </tr>\n",
       "  </thead>\n",
       "  <tbody>\n",
       "    <tr>\n",
       "      <th>0</th>\n",
       "      <td>10.0</td>\n",
       "      <td>10.0</td>\n",
       "      <td>10.0</td>\n",
       "      <td>f</td>\n",
       "      <td>NaN</td>\n",
       "      <td>{Amsterdam,\" NL Zip Codes 2\",\" Amsterdam\",\" NL\"}</td>\n",
       "      <td>t</td>\n",
       "      <td>f</td>\n",
       "      <td>strict_14_with_grace_period</td>\n",
       "      <td>f</td>\n",
       "    </tr>\n",
       "  </tbody>\n",
       "</table>\n",
       "</div>"
      ],
      "text/plain": [
       "   review_scores_communication  review_scores_location  review_scores_value  \\\n",
       "0                         10.0                    10.0                 10.0   \n",
       "\n",
       "  requires_license license                                jurisdiction_names  \\\n",
       "0                f     NaN  {Amsterdam,\" NL Zip Codes 2\",\" Amsterdam\",\" NL\"}   \n",
       "\n",
       "  instant_bookable is_business_travel_ready          cancellation_policy  \\\n",
       "0                t                        f  strict_14_with_grace_period   \n",
       "\n",
       "  require_guest_profile_picture  \n",
       "0                             f  "
      ]
     },
     "execution_count": 14,
     "metadata": {},
     "output_type": "execute_result"
    }
   ],
   "source": [
    "airbnb_data[list(airbnb_data.columns)[90:100]].head(1)"
   ]
  },
  {
   "cell_type": "code",
   "execution_count": 15,
   "metadata": {},
   "outputs": [
    {
     "data": {
      "text/html": [
       "<div>\n",
       "<style scoped>\n",
       "    .dataframe tbody tr th:only-of-type {\n",
       "        vertical-align: middle;\n",
       "    }\n",
       "\n",
       "    .dataframe tbody tr th {\n",
       "        vertical-align: top;\n",
       "    }\n",
       "\n",
       "    .dataframe thead th {\n",
       "        text-align: right;\n",
       "    }\n",
       "</style>\n",
       "<table border=\"1\" class=\"dataframe\">\n",
       "  <thead>\n",
       "    <tr style=\"text-align: right;\">\n",
       "      <th></th>\n",
       "      <th>require_guest_phone_verification</th>\n",
       "      <th>calculated_host_listings_count</th>\n",
       "      <th>calculated_host_listings_count_entire_homes</th>\n",
       "      <th>calculated_host_listings_count_private_rooms</th>\n",
       "      <th>calculated_host_listings_count_shared_rooms</th>\n",
       "      <th>reviews_per_month</th>\n",
       "    </tr>\n",
       "  </thead>\n",
       "  <tbody>\n",
       "    <tr>\n",
       "      <th>0</th>\n",
       "      <td>f</td>\n",
       "      <td>1</td>\n",
       "      <td>0</td>\n",
       "      <td>1</td>\n",
       "      <td>0</td>\n",
       "      <td>2.12</td>\n",
       "    </tr>\n",
       "  </tbody>\n",
       "</table>\n",
       "</div>"
      ],
      "text/plain": [
       "  require_guest_phone_verification  calculated_host_listings_count  \\\n",
       "0                                f                               1   \n",
       "\n",
       "   calculated_host_listings_count_entire_homes  \\\n",
       "0                                            0   \n",
       "\n",
       "   calculated_host_listings_count_private_rooms  \\\n",
       "0                                             1   \n",
       "\n",
       "   calculated_host_listings_count_shared_rooms  reviews_per_month  \n",
       "0                                            0               2.12  "
      ]
     },
     "execution_count": 15,
     "metadata": {},
     "output_type": "execute_result"
    }
   ],
   "source": [
    "airbnb_data[list(airbnb_data.columns)[100:]].head(1)"
   ]
  },
  {
   "cell_type": "markdown",
   "metadata": {},
   "source": [
    "With the outputs obtained I see that there are various columns like id, listing_url, scrp_id, last_scrped, name, summary, space, description, neighbourhood_overview, notes, transit, access, interation, house_rules, thumbnail_url, medium_url, picture_url, xl_picture_url, host_id, host_url, host_name, host_location, host_about, host_thumbnail_url, host_picture_url, host_neighbourhood, host_verifications, calendar_last_scraped, host_has_profile_pic which are not useful for either exploratory data analysis an well as for data modeling. There would be many other such variables that would be not used for EDA and Data modeling. I would be dropping these columns from the dataset now and some later in this project. "
   ]
  },
  {
   "cell_type": "code",
   "execution_count": 16,
   "metadata": {},
   "outputs": [],
   "source": [
    "#Dropping columns that are not useful for EDA oo Model Building\n",
    "drop_columns = ['listing_url', 'scrape_id', 'last_scraped', 'summary', 'space', 'description', 'neighborhood_overview', 'notes', 'transit', 'access', 'interaction', 'house_rules', 'thumbnail_url', 'medium_url', 'picture_url', 'xl_picture_url', 'host_id', 'host_url', 'host_name', 'host_location', 'host_about', 'host_thumbnail_url', 'host_picture_url', 'host_has_profile_pic','host_neighbourhood', 'host_verifications', 'calendar_last_scraped']\n",
    "airbnb_data = airbnb_data.drop(drop_columns, axis=1)"
   ]
  },
  {
   "cell_type": "markdown",
   "metadata": {},
   "source": [
    "I would be calculating the total number of null values associated with the columns in the dataset and then analyzing those columns based on the output obtained. "
   ]
  },
  {
   "cell_type": "code",
   "execution_count": 17,
   "metadata": {
    "scrolled": true
   },
   "outputs": [
    {
     "data": {
      "text/plain": [
       "neighbourhood_group_cleansed                    20677\n",
       "host_acceptance_rate                            20677\n",
       "license                                         20652\n",
       "square_feet                                     20291\n",
       "monthly_price                                   19269\n",
       "weekly_price                                    18086\n",
       "host_response_time                               8541\n",
       "host_response_rate                               8541\n",
       "security_deposit                                 6202\n",
       "cleaning_fee                                     3721\n",
       "review_scores_checkin                            2837\n",
       "review_scores_value                              2835\n",
       "review_scores_location                           2835\n",
       "review_scores_communication                      2830\n",
       "review_scores_accuracy                           2827\n",
       "review_scores_cleanliness                        2825\n",
       "review_scores_rating                             2816\n",
       "first_review                                     2593\n",
       "last_review                                      2593\n",
       "reviews_per_month                                2593\n",
       "zipcode                                           886\n",
       "neighbourhood                                     831\n",
       "state                                             219\n",
       "market                                             40\n",
       "jurisdiction_names                                 37\n",
       "name                                               35\n",
       "host_listings_count                                12\n",
       "host_total_listings_count                          12\n",
       "host_identity_verified                             12\n",
       "host_is_superhost                                  12\n",
       "                                                ...  \n",
       "bed_type                                            0\n",
       "amenities                                           0\n",
       "calculated_host_listings_count_private_rooms        0\n",
       "calculated_host_listings_count_entire_homes         0\n",
       "calculated_host_listings_count                      0\n",
       "require_guest_phone_verification                    0\n",
       "require_guest_profile_picture                       0\n",
       "is_business_travel_ready                            0\n",
       "instant_bookable                                    0\n",
       "requires_license                                    0\n",
       "number_of_reviews_ltm                               0\n",
       "number_of_reviews                                   0\n",
       "availability_365                                    0\n",
       "availability_90                                     0\n",
       "availability_60                                     0\n",
       "availability_30                                     0\n",
       "has_availability                                    0\n",
       "calendar_updated                                    0\n",
       "maximum_nights_avg_ntm                              0\n",
       "minimum_nights_avg_ntm                              0\n",
       "maximum_maximum_nights                              0\n",
       "minimum_maximum_nights                              0\n",
       "maximum_minimum_nights                              0\n",
       "minimum_minimum_nights                              0\n",
       "maximum_nights                                      0\n",
       "minimum_nights                                      0\n",
       "extra_people                                        0\n",
       "calculated_host_listings_count_shared_rooms         0\n",
       "price                                               0\n",
       "id                                                  0\n",
       "Length: 79, dtype: int64"
      ]
     },
     "execution_count": 17,
     "metadata": {},
     "output_type": "execute_result"
    }
   ],
   "source": [
    "#Calculating null values\n",
    "airbnb_data.isna().sum().sort_values(ascending=False)"
   ]
  },
  {
   "cell_type": "markdown",
   "metadata": {},
   "source": [
    "After finding the sum of null values in each column, I see that many columns do have maximum null values for some variables like host_acceptance_rate, neighbourhood_group_cleansed, license, square_feet, monthly_price, weekly_price. Imputing 80% of null values in this columns would not be a right approach. I would be dropping these variables from the dataset. \n"
   ]
  },
  {
   "cell_type": "code",
   "execution_count": 18,
   "metadata": {},
   "outputs": [],
   "source": [
    "#Dropping columns with more than 80% null values\n",
    "airbnb_data.drop(['host_acceptance_rate', 'neighbourhood_group_cleansed', 'square_feet', 'weekly_price', 'monthly_price', 'license', 'jurisdiction_names'], axis=1, inplace=True)\n",
    "airbnb_data.set_index('id', inplace=True) "
   ]
  },
  {
   "cell_type": "markdown",
   "metadata": {},
   "source": [
    "I see that from the variable names like host_listings_count and host_total_listings_count are the same columns as they are counting the host listing. I feel that these variable would be highly correlated. If the highly corelated variables are used for model building there would be an information leak while building the model, which would result in over fitting. Hence in this case of these columns should be dropped. Also the other columns that would be highly corelated should be removed from the dataset to avoid 100% accuracy of the model performance for all machine learning algorithms. "
   ]
  },
  {
   "cell_type": "code",
   "execution_count": 19,
   "metadata": {},
   "outputs": [],
   "source": [
    "#Dropping columns that has almost the same information in another column\n",
    "airbnb_data.drop(['host_total_listings_count', 'calculated_host_listings_count', 'calculated_host_listings_count_entire_homes', 'calculated_host_listings_count_private_rooms','calculated_host_listings_count_shared_rooms'], axis=1, inplace=True)"
   ]
  },
  {
   "cell_type": "markdown",
   "metadata": {},
   "source": [
    "Over the years, the parameters for listing Airbnb changes. There are various columns like maximum_nights_avg_ntm,minimum_nights_avg_ntm, maximum_maximum_nights, minimum_maximum_nights, maximum_minimum_nights, minimum_minimum_nights would change. But the definition for maximum nights and minimum nights would remain the same. Hence for this reason I am dropping these columns from the dataset. "
   ]
  },
  {
   "cell_type": "code",
   "execution_count": 20,
   "metadata": {},
   "outputs": [],
   "source": [
    "#Dropping the columns whose definition would over the years and also would't contribute much in data modeling and EDA. \n",
    "airbnb_data.drop(['maximum_nights_avg_ntm','minimum_nights_avg_ntm', 'maximum_maximum_nights', 'minimum_maximum_nights', 'maximum_minimum_nights', 'minimum_minimum_nights'],axis=1, inplace=True)"
   ]
  },
  {
   "cell_type": "markdown",
   "metadata": {},
   "source": [
    "Similarly, by the name itself of the columns number_of_reviews and number_of_reviews_ltm are same and this would lead to information leakage because of being highly corelated. Hence dropping these colums too."
   ]
  },
  {
   "cell_type": "code",
   "execution_count": 21,
   "metadata": {},
   "outputs": [],
   "source": [
    "#Dropping columns that are corelated\n",
    "airbnb_data.drop(['number_of_reviews_ltm', 'reviews_per_month'], axis=1, inplace=True)"
   ]
  },
  {
   "cell_type": "markdown",
   "metadata": {},
   "source": [
    "I will be checking the total columns left after dropping them from the dataset.  "
   ]
  },
  {
   "cell_type": "code",
   "execution_count": 22,
   "metadata": {},
   "outputs": [
    {
     "data": {
      "text/plain": [
       "host_response_rate                  8541\n",
       "host_response_time                  8541\n",
       "security_deposit                    6202\n",
       "cleaning_fee                        3721\n",
       "review_scores_checkin               2837\n",
       "review_scores_value                 2835\n",
       "review_scores_location              2835\n",
       "review_scores_communication         2830\n",
       "review_scores_accuracy              2827\n",
       "review_scores_cleanliness           2825\n",
       "review_scores_rating                2816\n",
       "last_review                         2593\n",
       "first_review                        2593\n",
       "zipcode                              886\n",
       "neighbourhood                        831\n",
       "state                                219\n",
       "market                                40\n",
       "name                                  35\n",
       "host_identity_verified                12\n",
       "host_listings_count                   12\n",
       "host_is_superhost                     12\n",
       "host_since                            12\n",
       "bedrooms                               8\n",
       "beds                                   8\n",
       "bathrooms                              6\n",
       "city                                   4\n",
       "cancellation_policy                    1\n",
       "country                                0\n",
       "latitude                               0\n",
       "street                                 0\n",
       "country_code                           0\n",
       "smart_location                         0\n",
       "is_location_exact                      0\n",
       "experiences_offered                    0\n",
       "neighbourhood_cleansed                 0\n",
       "longitude                              0\n",
       "require_guest_phone_verification       0\n",
       "property_type                          0\n",
       "has_availability                       0\n",
       "is_business_travel_ready               0\n",
       "instant_bookable                       0\n",
       "requires_license                       0\n",
       "number_of_reviews                      0\n",
       "availability_365                       0\n",
       "availability_90                        0\n",
       "availability_60                        0\n",
       "availability_30                        0\n",
       "calendar_updated                       0\n",
       "room_type                              0\n",
       "maximum_nights                         0\n",
       "minimum_nights                         0\n",
       "extra_people                           0\n",
       "guests_included                        0\n",
       "price                                  0\n",
       "require_guest_profile_picture          0\n",
       "bed_type                               0\n",
       "accommodates                           0\n",
       "amenities                              0\n",
       "dtype: int64"
      ]
     },
     "execution_count": 22,
     "metadata": {},
     "output_type": "execute_result"
    }
   ],
   "source": [
    "#Checking columns after many being dropped for further analysis\n",
    "airbnb_data.isna().sum().sort_values(ascending=False)"
   ]
  },
  {
   "cell_type": "markdown",
   "metadata": {},
   "source": [
    "Much of the data is cleaned. Yet the data is not 100% ready to be used. First I will check the data type of the columns and then analyze the next step to be done. "
   ]
  },
  {
   "cell_type": "code",
   "execution_count": 23,
   "metadata": {
    "scrolled": false
   },
   "outputs": [
    {
     "data": {
      "text/plain": [
       "name                                 object\n",
       "experiences_offered                  object\n",
       "host_since                           object\n",
       "host_response_time                   object\n",
       "host_response_rate                   object\n",
       "host_is_superhost                    object\n",
       "host_listings_count                 float64\n",
       "host_identity_verified               object\n",
       "street                               object\n",
       "neighbourhood                        object\n",
       "neighbourhood_cleansed               object\n",
       "city                                 object\n",
       "state                                object\n",
       "zipcode                              object\n",
       "market                               object\n",
       "smart_location                       object\n",
       "country_code                         object\n",
       "country                              object\n",
       "latitude                            float64\n",
       "longitude                           float64\n",
       "is_location_exact                    object\n",
       "property_type                        object\n",
       "room_type                            object\n",
       "accommodates                          int64\n",
       "bathrooms                           float64\n",
       "bedrooms                            float64\n",
       "beds                                float64\n",
       "bed_type                             object\n",
       "amenities                            object\n",
       "price                                object\n",
       "security_deposit                     object\n",
       "cleaning_fee                         object\n",
       "guests_included                       int64\n",
       "extra_people                         object\n",
       "minimum_nights                        int64\n",
       "maximum_nights                        int64\n",
       "calendar_updated                     object\n",
       "has_availability                     object\n",
       "availability_30                       int64\n",
       "availability_60                       int64\n",
       "availability_90                       int64\n",
       "availability_365                      int64\n",
       "number_of_reviews                     int64\n",
       "first_review                         object\n",
       "last_review                          object\n",
       "review_scores_rating                float64\n",
       "review_scores_accuracy              float64\n",
       "review_scores_cleanliness           float64\n",
       "review_scores_checkin               float64\n",
       "review_scores_communication         float64\n",
       "review_scores_location              float64\n",
       "review_scores_value                 float64\n",
       "requires_license                     object\n",
       "instant_bookable                     object\n",
       "is_business_travel_ready             object\n",
       "cancellation_policy                  object\n",
       "require_guest_profile_picture        object\n",
       "require_guest_phone_verification     object\n",
       "dtype: object"
      ]
     },
     "execution_count": 23,
     "metadata": {},
     "output_type": "execute_result"
    }
   ],
   "source": [
    "#Checking the datatypes\n",
    "airbnb_data.dtypes"
   ]
  },
  {
   "cell_type": "markdown",
   "metadata": {},
   "source": [
    "Now I will be cleaning the columns one by one. While cleaning, if any of the columns which seems not be important, I will be dropping them. "
   ]
  },
  {
   "cell_type": "markdown",
   "metadata": {},
   "source": [
    "For renting an apartment from Airbnb listing, price and availability are the important factors that plays a vital role. There are various factors on which the price is based on. I would be starting by cleaning and polishing the price category and then proceeding with the factors on which the price is based on, then availability followed by the other variables in the dataset. "
   ]
  },
  {
   "cell_type": "markdown",
   "metadata": {},
   "source": [
    "### Price"
   ]
  },
  {
   "cell_type": "markdown",
   "metadata": {},
   "source": [
    "Price includes price of a room, security deposit, cleaning fees and extra people cost if any. So I would display these columns and analyze the values in the dataset. "
   ]
  },
  {
   "cell_type": "code",
   "execution_count": 24,
   "metadata": {},
   "outputs": [
    {
     "data": {
      "text/html": [
       "<div>\n",
       "<style scoped>\n",
       "    .dataframe tbody tr th:only-of-type {\n",
       "        vertical-align: middle;\n",
       "    }\n",
       "\n",
       "    .dataframe tbody tr th {\n",
       "        vertical-align: top;\n",
       "    }\n",
       "\n",
       "    .dataframe thead th {\n",
       "        text-align: right;\n",
       "    }\n",
       "</style>\n",
       "<table border=\"1\" class=\"dataframe\">\n",
       "  <thead>\n",
       "    <tr style=\"text-align: right;\">\n",
       "      <th></th>\n",
       "      <th>price</th>\n",
       "      <th>security_deposit</th>\n",
       "      <th>cleaning_fee</th>\n",
       "      <th>extra_people</th>\n",
       "    </tr>\n",
       "    <tr>\n",
       "      <th>id</th>\n",
       "      <th></th>\n",
       "      <th></th>\n",
       "      <th></th>\n",
       "      <th></th>\n",
       "    </tr>\n",
       "  </thead>\n",
       "  <tbody>\n",
       "    <tr>\n",
       "      <th>2818</th>\n",
       "      <td>$59.00</td>\n",
       "      <td>$200.00</td>\n",
       "      <td>$60.00</td>\n",
       "      <td>$20.00</td>\n",
       "    </tr>\n",
       "    <tr>\n",
       "      <th>20168</th>\n",
       "      <td>$80.00</td>\n",
       "      <td>NaN</td>\n",
       "      <td>NaN</td>\n",
       "      <td>$0.00</td>\n",
       "    </tr>\n",
       "    <tr>\n",
       "      <th>25428</th>\n",
       "      <td>$125.00</td>\n",
       "      <td>$300.00</td>\n",
       "      <td>$40.00</td>\n",
       "      <td>$10.00</td>\n",
       "    </tr>\n",
       "    <tr>\n",
       "      <th>27886</th>\n",
       "      <td>$150.00</td>\n",
       "      <td>$0.00</td>\n",
       "      <td>$0.00</td>\n",
       "      <td>$0.00</td>\n",
       "    </tr>\n",
       "    <tr>\n",
       "      <th>28871</th>\n",
       "      <td>$75.00</td>\n",
       "      <td>NaN</td>\n",
       "      <td>NaN</td>\n",
       "      <td>$0.00</td>\n",
       "    </tr>\n",
       "  </tbody>\n",
       "</table>\n",
       "</div>"
      ],
      "text/plain": [
       "         price security_deposit cleaning_fee extra_people\n",
       "id                                                       \n",
       "2818    $59.00          $200.00       $60.00       $20.00\n",
       "20168   $80.00              NaN          NaN        $0.00\n",
       "25428  $125.00          $300.00       $40.00       $10.00\n",
       "27886  $150.00            $0.00        $0.00        $0.00\n",
       "28871   $75.00              NaN          NaN        $0.00"
      ]
     },
     "execution_count": 24,
     "metadata": {},
     "output_type": "execute_result"
    }
   ],
   "source": [
    "airbnb_data[['price','security_deposit','cleaning_fee', 'extra_people']].head()"
   ]
  },
  {
   "cell_type": "markdown",
   "metadata": {},
   "source": [
    "With the outputs obtained I see that there are null values in security deposit and in cleaning fees, whereas price, security_deposit, cleaning_fee, and extra_people (extracharge per person) has a special charater. Having special charater in the dataset is not a good approach for data modeling. First I will count the total number of missing values in these columns. Filling in the missing values either by mean or meadian or by any other approach would not be a good decision. Hence I would be replacing the null values of these columns by Zero '0' and remove the special charaters. "
   ]
  },
  {
   "cell_type": "markdown",
   "metadata": {},
   "source": [
    "Cleaning the price column"
   ]
  },
  {
   "cell_type": "code",
   "execution_count": 25,
   "metadata": {},
   "outputs": [
    {
     "data": {
      "text/plain": [
       "0"
      ]
     },
     "execution_count": 25,
     "metadata": {},
     "output_type": "execute_result"
    }
   ],
   "source": [
    "#Counting nul values\n",
    "airbnb_data['price'].isna().sum()"
   ]
  },
  {
   "cell_type": "markdown",
   "metadata": {},
   "source": [
    "There is no null value in price. I will just replace the special characters. "
   ]
  },
  {
   "cell_type": "code",
   "execution_count": 26,
   "metadata": {},
   "outputs": [],
   "source": [
    "#Removing the special character\n",
    "airbnb_data['price'] = airbnb_data['price'].str.replace(\"$\",\"\").str.replace(',','').astype(float)"
   ]
  },
  {
   "cell_type": "markdown",
   "metadata": {},
   "source": [
    "### Security Deposit"
   ]
  },
  {
   "cell_type": "markdown",
   "metadata": {},
   "source": [
    "Cleaning the security_deposit column"
   ]
  },
  {
   "cell_type": "code",
   "execution_count": 27,
   "metadata": {},
   "outputs": [
    {
     "data": {
      "text/plain": [
       "6202"
      ]
     },
     "execution_count": 27,
     "metadata": {},
     "output_type": "execute_result"
    }
   ],
   "source": [
    "#Counting nul values\n",
    "airbnb_data['security_deposit'].isna().sum()"
   ]
  },
  {
   "cell_type": "code",
   "execution_count": 28,
   "metadata": {},
   "outputs": [],
   "source": [
    "#Removing the special character and filling in the null values \n",
    "airbnb_data['security_deposit'] = airbnb_data['security_deposit'].str.replace(\"$\",\"\").str.replace(',','').astype(float)\n",
    "airbnb_data.security_deposit.fillna(0, inplace=True)"
   ]
  },
  {
   "cell_type": "markdown",
   "metadata": {},
   "source": [
    "### Cleaning Fee"
   ]
  },
  {
   "cell_type": "markdown",
   "metadata": {},
   "source": [
    "Cleaning the cleaning_fee column"
   ]
  },
  {
   "cell_type": "code",
   "execution_count": 29,
   "metadata": {},
   "outputs": [
    {
     "data": {
      "text/plain": [
       "3721"
      ]
     },
     "execution_count": 29,
     "metadata": {},
     "output_type": "execute_result"
    }
   ],
   "source": [
    "#Counting nul values\n",
    "airbnb_data['cleaning_fee'].isna().sum()"
   ]
  },
  {
   "cell_type": "code",
   "execution_count": 30,
   "metadata": {},
   "outputs": [],
   "source": [
    "#Removing the special character and filling in the null values \n",
    "airbnb_data['cleaning_fee'] = airbnb_data['cleaning_fee'].str.replace(\"$\",\"\").str.replace(',','').astype(float)\n",
    "airbnb_data.cleaning_fee.fillna(0, inplace=True)"
   ]
  },
  {
   "cell_type": "markdown",
   "metadata": {},
   "source": [
    "### Extra People"
   ]
  },
  {
   "cell_type": "markdown",
   "metadata": {},
   "source": [
    "Cleaning the extra_people column"
   ]
  },
  {
   "cell_type": "code",
   "execution_count": 31,
   "metadata": {},
   "outputs": [
    {
     "data": {
      "text/plain": [
       "0"
      ]
     },
     "execution_count": 31,
     "metadata": {},
     "output_type": "execute_result"
    }
   ],
   "source": [
    "#Counting nul values\n",
    "airbnb_data['extra_people'].isna().sum()"
   ]
  },
  {
   "cell_type": "markdown",
   "metadata": {},
   "source": [
    "There is no null value in the extra_people column. So I will replace the special character and change the datatype. "
   ]
  },
  {
   "cell_type": "code",
   "execution_count": 32,
   "metadata": {},
   "outputs": [],
   "source": [
    "#Removing the special character\n",
    "airbnb_data['extra_people'] = airbnb_data['extra_people'].str.replace(\"$\",\"\").str.replace(',','').astype(float)"
   ]
  },
  {
   "cell_type": "code",
   "execution_count": 33,
   "metadata": {},
   "outputs": [
    {
     "data": {
      "text/html": [
       "<div>\n",
       "<style scoped>\n",
       "    .dataframe tbody tr th:only-of-type {\n",
       "        vertical-align: middle;\n",
       "    }\n",
       "\n",
       "    .dataframe tbody tr th {\n",
       "        vertical-align: top;\n",
       "    }\n",
       "\n",
       "    .dataframe thead th {\n",
       "        text-align: right;\n",
       "    }\n",
       "</style>\n",
       "<table border=\"1\" class=\"dataframe\">\n",
       "  <thead>\n",
       "    <tr style=\"text-align: right;\">\n",
       "      <th></th>\n",
       "      <th>price</th>\n",
       "      <th>security_deposit</th>\n",
       "      <th>cleaning_fee</th>\n",
       "      <th>extra_people</th>\n",
       "    </tr>\n",
       "    <tr>\n",
       "      <th>id</th>\n",
       "      <th></th>\n",
       "      <th></th>\n",
       "      <th></th>\n",
       "      <th></th>\n",
       "    </tr>\n",
       "  </thead>\n",
       "  <tbody>\n",
       "    <tr>\n",
       "      <th>2818</th>\n",
       "      <td>59.0</td>\n",
       "      <td>200.0</td>\n",
       "      <td>60.0</td>\n",
       "      <td>20.0</td>\n",
       "    </tr>\n",
       "    <tr>\n",
       "      <th>20168</th>\n",
       "      <td>80.0</td>\n",
       "      <td>0.0</td>\n",
       "      <td>0.0</td>\n",
       "      <td>0.0</td>\n",
       "    </tr>\n",
       "    <tr>\n",
       "      <th>25428</th>\n",
       "      <td>125.0</td>\n",
       "      <td>300.0</td>\n",
       "      <td>40.0</td>\n",
       "      <td>10.0</td>\n",
       "    </tr>\n",
       "    <tr>\n",
       "      <th>27886</th>\n",
       "      <td>150.0</td>\n",
       "      <td>0.0</td>\n",
       "      <td>0.0</td>\n",
       "      <td>0.0</td>\n",
       "    </tr>\n",
       "    <tr>\n",
       "      <th>28871</th>\n",
       "      <td>75.0</td>\n",
       "      <td>0.0</td>\n",
       "      <td>0.0</td>\n",
       "      <td>0.0</td>\n",
       "    </tr>\n",
       "  </tbody>\n",
       "</table>\n",
       "</div>"
      ],
      "text/plain": [
       "       price  security_deposit  cleaning_fee  extra_people\n",
       "id                                                        \n",
       "2818    59.0             200.0          60.0          20.0\n",
       "20168   80.0               0.0           0.0           0.0\n",
       "25428  125.0             300.0          40.0          10.0\n",
       "27886  150.0               0.0           0.0           0.0\n",
       "28871   75.0               0.0           0.0           0.0"
      ]
     },
     "execution_count": 33,
     "metadata": {},
     "output_type": "execute_result"
    }
   ],
   "source": [
    "airbnb_data[['price','security_deposit','cleaning_fee', 'extra_people']].head()"
   ]
  },
  {
   "cell_type": "markdown",
   "metadata": {},
   "source": [
    "Hence the price, security_deposit, cleaning_fee, extra_people columns are cleaned. "
   ]
  },
  {
   "cell_type": "markdown",
   "metadata": {},
   "source": [
    "There are various factors that affects the price. These factors are:\n",
    "\n",
    "- Property type\n",
    "- Total number of bathroom\n",
    "- Total number of bedroom\n",
    "- Amenities\n",
    "- Neighborhood and others \n",
    "\n",
    "I would start cleaning these columns. "
   ]
  },
  {
   "cell_type": "markdown",
   "metadata": {},
   "source": [
    "### Property type "
   ]
  },
  {
   "cell_type": "markdown",
   "metadata": {},
   "source": [
    "I will count the type of properties in Airbnb listing"
   ]
  },
  {
   "cell_type": "code",
   "execution_count": 34,
   "metadata": {
    "scrolled": true
   },
   "outputs": [
    {
     "data": {
      "text/plain": [
       "Apartment                 15832\n",
       "House                      1641\n",
       "Townhouse                   671\n",
       "Bed and breakfast           549\n",
       "Loft                        392\n",
       "Boat                        351\n",
       "Condominium                 334\n",
       "Houseboat                   290\n",
       "Guest suite                 146\n",
       "Aparthotel                  119\n",
       "Serviced apartment           69\n",
       "Guesthouse                   49\n",
       "Boutique hotel               43\n",
       "Villa                        39\n",
       "Other                        39\n",
       "Hostel                       29\n",
       "Hotel                        23\n",
       "Cottage                      12\n",
       "Tiny house                   12\n",
       "Cabin                        10\n",
       "Camper/RV                     5\n",
       "Bungalow                      3\n",
       "Casa particular (Cuba)        3\n",
       "Chalet                        3\n",
       "Barn                          2\n",
       "Yurt                          2\n",
       "Island                        1\n",
       "Nature lodge                  1\n",
       "Lighthouse                    1\n",
       "Earth house                   1\n",
       "Hut                           1\n",
       "Campsite                      1\n",
       "Tent                          1\n",
       "Dome house                    1\n",
       "Castle                        1\n",
       "Name: property_type, dtype: int64"
      ]
     },
     "execution_count": 34,
     "metadata": {},
     "output_type": "execute_result"
    }
   ],
   "source": [
    "#Counting the types of property\n",
    "airbnb_data['property_type'].value_counts()"
   ]
  },
  {
   "cell_type": "markdown",
   "metadata": {},
   "source": [
    "From the output, highest type of property type is of the type apartment, followed by house, townhouse and so on. The least type of properties listed are Lighhouse, hut, tent etc. Having too many categoris in one column would give me too many columns while doing Encoding of these categories. Hence, I would be classifying these property types into three main categories: Apartment, House and Other.  "
   ]
  },
  {
   "cell_type": "code",
   "execution_count": 35,
   "metadata": {},
   "outputs": [],
   "source": [
    "# Replacing categories that are types of houses or apartments\n",
    "airbnb_data.property_type.replace({\n",
    "    'Townhouse': 'House',\n",
    "    'Serviced apartment': 'Apartment',\n",
    "    'Loft': 'Apartment',\n",
    "    'Bungalow': 'House',\n",
    "    'Cottage': 'House',\n",
    "    'Villa': 'House',\n",
    "    'Tiny house': 'House',\n",
    "    'Earth house': 'House',\n",
    "    'Chalet': 'House'  \n",
    "    }, inplace=True)\n",
    "\n",
    "# Replacing other categories with 'other'\n",
    "airbnb_data.loc[~airbnb_data.property_type.isin(['House', 'Apartment']), 'property_type'] = 'Other'"
   ]
  },
  {
   "cell_type": "code",
   "execution_count": 36,
   "metadata": {},
   "outputs": [
    {
     "data": {
      "text/plain": [
       "Apartment    16293\n",
       "House         2382\n",
       "Other         2002\n",
       "Name: property_type, dtype: int64"
      ]
     },
     "execution_count": 36,
     "metadata": {},
     "output_type": "execute_result"
    }
   ],
   "source": [
    "airbnb_data['property_type'].value_counts()"
   ]
  },
  {
   "cell_type": "markdown",
   "metadata": {},
   "source": [
    "People also look into the total no of bedrooms aand bathroom. I will first see if any of these variables has a null values. "
   ]
  },
  {
   "cell_type": "markdown",
   "metadata": {},
   "source": [
    "### Bedrooms"
   ]
  },
  {
   "cell_type": "code",
   "execution_count": 37,
   "metadata": {},
   "outputs": [
    {
     "data": {
      "text/plain": [
       "8"
      ]
     },
     "execution_count": 37,
     "metadata": {},
     "output_type": "execute_result"
    }
   ],
   "source": [
    "#Calculating the null values\n",
    "airbnb_data['bedrooms'].isna().sum()"
   ]
  },
  {
   "cell_type": "markdown",
   "metadata": {},
   "source": [
    "There are 8 missing values in the bedrooms column. I will replace this missing value with median. Replacing the null value with the mean value is not a right way to replace the null values as it will take the average of bedrooms in the list. "
   ]
  },
  {
   "cell_type": "code",
   "execution_count": 38,
   "metadata": {},
   "outputs": [],
   "source": [
    "#Filling the null value with the median\n",
    "airbnb_data['bedrooms'] = airbnb_data['bedrooms'].fillna(airbnb_data['bedrooms'].median())"
   ]
  },
  {
   "cell_type": "markdown",
   "metadata": {},
   "source": [
    "### Beds"
   ]
  },
  {
   "cell_type": "code",
   "execution_count": 39,
   "metadata": {},
   "outputs": [
    {
     "data": {
      "text/plain": [
       "8"
      ]
     },
     "execution_count": 39,
     "metadata": {},
     "output_type": "execute_result"
    }
   ],
   "source": [
    "#Calculating the null values\n",
    "airbnb_data['beds'].isna().sum()"
   ]
  },
  {
   "cell_type": "markdown",
   "metadata": {},
   "source": [
    "There are 8 missing values in the bedrooms column. I will replace this missing value with median. "
   ]
  },
  {
   "cell_type": "code",
   "execution_count": 40,
   "metadata": {},
   "outputs": [],
   "source": [
    "#Filling the null value with the median\n",
    "airbnb_data['beds'] = airbnb_data['beds'].fillna(airbnb_data['beds'].median())"
   ]
  },
  {
   "cell_type": "markdown",
   "metadata": {},
   "source": [
    "There is one more variable related to bedroom is bedtype. Let explore this variable. "
   ]
  },
  {
   "cell_type": "markdown",
   "metadata": {},
   "source": [
    "### Types of Bed"
   ]
  },
  {
   "cell_type": "code",
   "execution_count": 41,
   "metadata": {},
   "outputs": [
    {
     "data": {
      "text/plain": [
       "id\n",
       "2818     Real Bed\n",
       "20168    Real Bed\n",
       "25428    Real Bed\n",
       "27886    Real Bed\n",
       "28871    Real Bed\n",
       "29051    Real Bed\n",
       "31080    Real Bed\n",
       "38266       Futon\n",
       "42970    Real Bed\n",
       "43109    Real Bed\n",
       "Name: bed_type, dtype: object"
      ]
     },
     "execution_count": 41,
     "metadata": {},
     "output_type": "execute_result"
    }
   ],
   "source": [
    "#Checking the types of bed\n",
    "airbnb_data['bed_type'].head(10)"
   ]
  },
  {
   "cell_type": "markdown",
   "metadata": {},
   "source": [
    "While booking a Airbnb, generally people dont look into the bed type. It seems that types of bed type will not add value for data modeling too. I will drop this variable from the dataset. "
   ]
  },
  {
   "cell_type": "code",
   "execution_count": 42,
   "metadata": {},
   "outputs": [],
   "source": [
    "#Dropping the column bed types\n",
    "airbnb_data.drop(['bed_type'], axis=1, inplace=True)"
   ]
  },
  {
   "cell_type": "markdown",
   "metadata": {},
   "source": [
    "### Bathrooms"
   ]
  },
  {
   "cell_type": "code",
   "execution_count": 43,
   "metadata": {},
   "outputs": [
    {
     "data": {
      "text/plain": [
       "6"
      ]
     },
     "execution_count": 43,
     "metadata": {},
     "output_type": "execute_result"
    }
   ],
   "source": [
    "#Calculating the null values\n",
    "airbnb_data['bathrooms'].isna().sum()"
   ]
  },
  {
   "cell_type": "markdown",
   "metadata": {},
   "source": [
    "There are 6 missing values in the bedrooms column. I will replace this missing value with median."
   ]
  },
  {
   "cell_type": "code",
   "execution_count": 44,
   "metadata": {},
   "outputs": [],
   "source": [
    "#Filling the null value with the median\n",
    "airbnb_data['bathrooms'] = airbnb_data['bathrooms'].fillna(airbnb_data['bathrooms'].median())"
   ]
  },
  {
   "cell_type": "markdown",
   "metadata": {},
   "source": [
    "### Amenities"
   ]
  },
  {
   "cell_type": "markdown",
   "metadata": {},
   "source": [
    "While choosing a house for renting, people look into amenities like wifi, Parking, Internet, T.V, 24-hour check in, etc. Hence for renting, these are also some essential parameters that people do consider and price also depends on these features as well. I would be analyzing this column in detail and find some important list of amenities. "
   ]
  },
  {
   "cell_type": "markdown",
   "metadata": {},
   "source": [
    "First I will split the amenities in a list "
   ]
  },
  {
   "cell_type": "code",
   "execution_count": 45,
   "metadata": {},
   "outputs": [
    {
     "data": {
      "text/plain": [
       "0"
      ]
     },
     "execution_count": 45,
     "metadata": {},
     "output_type": "execute_result"
    }
   ],
   "source": [
    "#Calculating the null values\n",
    "airbnb_data['amenities'].isna().sum()"
   ]
  },
  {
   "cell_type": "markdown",
   "metadata": {},
   "source": [
    "### EXPERIENCE "
   ]
  },
  {
   "cell_type": "code",
   "execution_count": 46,
   "metadata": {},
   "outputs": [
    {
     "data": {
      "text/plain": [
       "none    20677\n",
       "Name: experiences_offered, dtype: int64"
      ]
     },
     "execution_count": 46,
     "metadata": {},
     "output_type": "execute_result"
    }
   ],
   "source": [
    "# Counting value\n",
    "airbnb_data.experiences_offered.value_counts()"
   ]
  },
  {
   "cell_type": "markdown",
   "metadata": {},
   "source": [
    "I see that maximum of the experience offered values are null. Hence I would be dropping this column as well. "
   ]
  },
  {
   "cell_type": "code",
   "execution_count": 47,
   "metadata": {},
   "outputs": [],
   "source": [
    "#Dropping the column\n",
    "airbnb_data.drop(['experiences_offered'], axis=1, inplace=True)"
   ]
  },
  {
   "cell_type": "markdown",
   "metadata": {},
   "source": [
    "Replacing the Categorical Variables such as false (f) abd true (t) with numercial values 1 and 1 respectively in the dataset. "
   ]
  },
  {
   "cell_type": "code",
   "execution_count": 48,
   "metadata": {},
   "outputs": [],
   "source": [
    "#Replacing the values\n",
    "airbnb_data.replace({'f': 0, 't': 1}, inplace=True)"
   ]
  },
  {
   "cell_type": "code",
   "execution_count": 49,
   "metadata": {},
   "outputs": [
    {
     "data": {
      "image/png": "[encoded data removed]",
      "text/plain": [
       "<Figure size 1440x1440 with 36 Axes>"
      ]
     },
     "metadata": {
      "needs_background": "light"
     },
     "output_type": "display_data"
    }
   ],
   "source": [
    "# Plotting the distribution\n",
    "airbnb_data.hist(figsize=(20,20));"
   ]
  },
  {
   "cell_type": "markdown",
   "metadata": {},
   "source": [
    "I see that many columns has just one category. Not all columns, but several columns having just one category would not be useful for data modeling and important too. Hence these columns needs to be dropped. "
   ]
  },
  {
   "cell_type": "code",
   "execution_count": 50,
   "metadata": {},
   "outputs": [],
   "source": [
    "#Dropping columns having just one category\n",
    "airbnb_data.drop(['is_business_travel_ready', 'require_guest_profile_picture', 'require_guest_phone_verification', 'requires_license'], axis=1, inplace=True)"
   ]
  },
  {
   "cell_type": "markdown",
   "metadata": {},
   "source": [
    "### CANCELLATION POLICY"
   ]
  },
  {
   "cell_type": "code",
   "execution_count": 51,
   "metadata": {},
   "outputs": [
    {
     "data": {
      "text/plain": [
       "1"
      ]
     },
     "execution_count": 51,
     "metadata": {},
     "output_type": "execute_result"
    }
   ],
   "source": [
    "# Calculating null values\n",
    "airbnb_data['cancellation_policy'].isna().sum()"
   ]
  },
  {
   "cell_type": "code",
   "execution_count": 52,
   "metadata": {},
   "outputs": [],
   "source": [
    "#Filling the null value\n",
    "airbnb_data['cancellation_policy'] = airbnb_data['cancellation_policy'].fillna('strict_14_with_grace_period')"
   ]
  },
  {
   "cell_type": "markdown",
   "metadata": {},
   "source": [
    "### HOST SINCE"
   ]
  },
  {
   "cell_type": "markdown",
   "metadata": {},
   "source": [
    "I feel that host_since is not an important parameter. How genuine is the host, can be determined by the total reviews for that listing. Hence I will drop this column from the datatset. "
   ]
  },
  {
   "cell_type": "code",
   "execution_count": 53,
   "metadata": {},
   "outputs": [],
   "source": [
    "#Dropping the column\n",
    "airbnb_data.drop(['host_since'], axis=1, inplace=True)"
   ]
  },
  {
   "cell_type": "markdown",
   "metadata": {},
   "source": [
    "### HOST RESPONSE TIME"
   ]
  },
  {
   "cell_type": "markdown",
   "metadata": {},
   "source": [
    "Host response time is an important parameter, since when ever the Airbnb is booked, first we need to contact the host. So it very important for host to reply before booking. Hence I will be using this column. "
   ]
  },
  {
   "cell_type": "code",
   "execution_count": 54,
   "metadata": {},
   "outputs": [
    {
     "data": {
      "text/plain": [
       "8541"
      ]
     },
     "execution_count": 54,
     "metadata": {},
     "output_type": "execute_result"
    }
   ],
   "source": [
    "#Calculating the total null value\n",
    "airbnb_data['host_response_time'].isna().sum()"
   ]
  },
  {
   "cell_type": "code",
   "execution_count": 55,
   "metadata": {},
   "outputs": [
    {
     "data": {
      "text/plain": [
       "2593"
      ]
     },
     "execution_count": 55,
     "metadata": {},
     "output_type": "execute_result"
    }
   ],
   "source": [
    "# Number of rows without a value for host_response_time which have also not yet had a review\n",
    "len(airbnb_data[airbnb_data.loc[ :,['host_response_time ', 'first_review'] ].isnull().sum(axis=1) == 2])"
   ]
  },
  {
   "cell_type": "code",
   "execution_count": 56,
   "metadata": {},
   "outputs": [
    {
     "data": {
      "text/plain": [
       "unknown               0.413068\n",
       "within an hour        0.300672\n",
       "within a few hours    0.145863\n",
       "within a day          0.124293\n",
       "a few days or more    0.016105\n",
       "Name: host_response_time, dtype: float64"
      ]
     },
     "execution_count": 56,
     "metadata": {},
     "output_type": "execute_result"
    }
   ],
   "source": [
    "#Filling in the null value\n",
    "airbnb_data.host_response_time.fillna(\"unknown\", inplace=True)\n",
    "airbnb_data.host_response_time.value_counts(normalize=True)"
   ]
  },
  {
   "cell_type": "markdown",
   "metadata": {},
   "source": [
    "### HOST RESPONSE RATE"
   ]
  },
  {
   "cell_type": "markdown",
   "metadata": {},
   "source": [
    "The host response rate depends on how soon the host replies. This is also important for a customer to consider before contacting the host and expect a reply. "
   ]
  },
  {
   "cell_type": "code",
   "execution_count": 57,
   "metadata": {},
   "outputs": [
    {
     "data": {
      "text/plain": [
       "8541"
      ]
     },
     "execution_count": 57,
     "metadata": {},
     "output_type": "execute_result"
    }
   ],
   "source": [
    "#Counting the null value\n",
    "airbnb_data['host_response_rate'].isna().sum()"
   ]
  },
  {
   "cell_type": "code",
   "execution_count": 58,
   "metadata": {},
   "outputs": [
    {
     "name": "stdout",
     "output_type": "stream",
     "text": [
      "Mean host response rate: 94.0\n",
      "Median host response rate: 100.0\n",
      "Proportion of 100% host response rates: 74.3%\n"
     ]
    }
   ],
   "source": [
    "# Removing the % sign from the host_response_rate string\n",
    "airbnb_data.host_response_rate = airbnb_data.host_response_rate.str[:-1].astype('float64')\n",
    "\n",
    "print(\"Mean host response rate:\", round(airbnb_data['host_response_rate'].mean(),0))\n",
    "print(\"Median host response rate:\", airbnb_data['host_response_rate'].median())\n",
    "print(f\"Proportion of 100% host response rates: {round(((airbnb_data.host_response_rate == 100.0).sum()/airbnb_data.host_response_rate.count())*100,1)}%\")"
   ]
  },
  {
   "cell_type": "code",
   "execution_count": 59,
   "metadata": {},
   "outputs": [
    {
     "data": {
      "text/plain": [
       "100%       9011\n",
       "unknown    8541\n",
       "50-89%     1804\n",
       "90-99%      809\n",
       "0-49%       512\n",
       "Name: host_response_rate, dtype: int64"
      ]
     },
     "execution_count": 59,
     "metadata": {},
     "output_type": "execute_result"
    }
   ],
   "source": [
    "# Bining host response rate into four categories\n",
    "airbnb_data.host_response_rate = pd.cut(airbnb_data.host_response_rate, \n",
    "                               bins=[0, 50, 90, 99, 100], \n",
    "                               labels=['0-49%', '50-89%', '90-99%', '100%'], \n",
    "                               include_lowest=True)\n",
    "\n",
    "# Converting the host response rate into string\n",
    "airbnb_data.host_response_rate = airbnb_data.host_response_rate.astype('str')\n",
    "\n",
    "# Replacing the null value with unknown\n",
    "airbnb_data.host_response_rate.replace('nan', 'unknown', inplace=True)\n",
    "\n",
    "# Counting the values in each bins\n",
    "airbnb_data.host_response_rate.value_counts()"
   ]
  },
  {
   "cell_type": "markdown",
   "metadata": {},
   "source": [
    "### HOST IS A SUPERHOST"
   ]
  },
  {
   "cell_type": "code",
   "execution_count": 60,
   "metadata": {},
   "outputs": [
    {
     "data": {
      "text/plain": [
       "12"
      ]
     },
     "execution_count": 60,
     "metadata": {},
     "output_type": "execute_result"
    }
   ],
   "source": [
    "#Calculating the null value\n",
    "airbnb_data['host_is_superhost'].isna().sum()"
   ]
  },
  {
   "cell_type": "code",
   "execution_count": 61,
   "metadata": {},
   "outputs": [],
   "source": [
    "#Filling in the null value\n",
    "airbnb_data.host_is_superhost.fillna(\"0\", inplace=True)"
   ]
  },
  {
   "cell_type": "markdown",
   "metadata": {},
   "source": [
    "Superhost means the host who are experienced and provide a shining example for other hosts, along with extraordinary experiences for their guests. Such superhosts gets excellent reviews and ratings and their listings are in a great demand. "
   ]
  },
  {
   "cell_type": "markdown",
   "metadata": {},
   "source": [
    "### AVAILABILITY"
   ]
  },
  {
   "cell_type": "markdown",
   "metadata": {},
   "source": [
    "The column has_availability just tell whether the house listed in Airbnb is available or not. Where as in availability_30, availability_60, availability_90, availability_365, if it available its indicated as 1 or else its 0. I feel that has_availability gives the same information. Hence I will drop the column has_availability. "
   ]
  },
  {
   "cell_type": "code",
   "execution_count": 62,
   "metadata": {},
   "outputs": [],
   "source": [
    "#Dropping the column\n",
    "airbnb_data.drop(['has_availability'], axis=1, inplace=True)"
   ]
  },
  {
   "cell_type": "markdown",
   "metadata": {},
   "source": [
    "### REVIEW RATINGS"
   ]
  },
  {
   "cell_type": "markdown",
   "metadata": {},
   "source": [
    "This is the most important parameter for a customer to booking an Airbnb. "
   ]
  },
  {
   "cell_type": "code",
   "execution_count": 63,
   "metadata": {},
   "outputs": [
    {
     "data": {
      "text/plain": [
       "2816"
      ]
     },
     "execution_count": 63,
     "metadata": {},
     "output_type": "execute_result"
    }
   ],
   "source": [
    "#Checking the null value\n",
    "airbnb_data['review_scores_rating'].isna().sum()"
   ]
  },
  {
   "cell_type": "code",
   "execution_count": 64,
   "metadata": {},
   "outputs": [],
   "source": [
    "#Filling in the null value\n",
    "airbnb_data.review_scores_rating.fillna(\"0\", inplace=True)"
   ]
  },
  {
   "cell_type": "markdown",
   "metadata": {},
   "source": [
    "### Review scores accuracy"
   ]
  },
  {
   "cell_type": "code",
   "execution_count": 65,
   "metadata": {},
   "outputs": [
    {
     "data": {
      "text/plain": [
       "2827"
      ]
     },
     "execution_count": 65,
     "metadata": {},
     "output_type": "execute_result"
    }
   ],
   "source": [
    "#Checking the null value\n",
    "airbnb_data['review_scores_accuracy'].isna().sum()"
   ]
  },
  {
   "cell_type": "code",
   "execution_count": 66,
   "metadata": {},
   "outputs": [],
   "source": [
    "#Filling in the null value\n",
    "airbnb_data.review_scores_accuracy.fillna(\"0\", inplace=True)"
   ]
  },
  {
   "cell_type": "markdown",
   "metadata": {},
   "source": [
    "### Review scores checkin"
   ]
  },
  {
   "cell_type": "code",
   "execution_count": 67,
   "metadata": {},
   "outputs": [
    {
     "data": {
      "text/plain": [
       "2830"
      ]
     },
     "execution_count": 67,
     "metadata": {},
     "output_type": "execute_result"
    }
   ],
   "source": [
    "#Checking the null value\n",
    "airbnb_data['review_scores_communication'].isna().sum()"
   ]
  },
  {
   "cell_type": "code",
   "execution_count": 68,
   "metadata": {},
   "outputs": [],
   "source": [
    "#Filling in the null value\n",
    "airbnb_data.review_scores_checkin.fillna(\"0\", inplace=True)"
   ]
  },
  {
   "cell_type": "markdown",
   "metadata": {},
   "source": [
    "### Review scores communication"
   ]
  },
  {
   "cell_type": "code",
   "execution_count": 69,
   "metadata": {},
   "outputs": [
    {
     "data": {
      "text/plain": [
       "2830"
      ]
     },
     "execution_count": 69,
     "metadata": {},
     "output_type": "execute_result"
    }
   ],
   "source": [
    "#Checking the null value\n",
    "airbnb_data['review_scores_communication'].isna().sum()"
   ]
  },
  {
   "cell_type": "code",
   "execution_count": 70,
   "metadata": {},
   "outputs": [],
   "source": [
    "#Filling in the null value\n",
    "airbnb_data.review_scores_communication.fillna(\"0\", inplace=True)"
   ]
  },
  {
   "cell_type": "markdown",
   "metadata": {},
   "source": [
    "### Review scores location"
   ]
  },
  {
   "cell_type": "code",
   "execution_count": 71,
   "metadata": {},
   "outputs": [
    {
     "data": {
      "text/plain": [
       "2835"
      ]
     },
     "execution_count": 71,
     "metadata": {},
     "output_type": "execute_result"
    }
   ],
   "source": [
    "#Checking the null value\n",
    "airbnb_data['review_scores_location'].isna().sum()"
   ]
  },
  {
   "cell_type": "code",
   "execution_count": 72,
   "metadata": {},
   "outputs": [],
   "source": [
    "#Filling in the null value\n",
    "airbnb_data.review_scores_location.fillna(\"0\", inplace=True)"
   ]
  },
  {
   "cell_type": "markdown",
   "metadata": {},
   "source": [
    "### Review scores value"
   ]
  },
  {
   "cell_type": "code",
   "execution_count": 73,
   "metadata": {},
   "outputs": [
    {
     "data": {
      "text/plain": [
       "2835"
      ]
     },
     "execution_count": 73,
     "metadata": {},
     "output_type": "execute_result"
    }
   ],
   "source": [
    "#Checking the null value\n",
    "airbnb_data['review_scores_value'].isna().sum()"
   ]
  },
  {
   "cell_type": "code",
   "execution_count": 74,
   "metadata": {},
   "outputs": [],
   "source": [
    "#Filling in the null value\n",
    "airbnb_data.review_scores_value.fillna(\"0\", inplace=True)"
   ]
  },
  {
   "cell_type": "markdown",
   "metadata": {},
   "source": [
    "### Review scores cleanliness"
   ]
  },
  {
   "cell_type": "code",
   "execution_count": 75,
   "metadata": {},
   "outputs": [
    {
     "data": {
      "text/plain": [
       "2825"
      ]
     },
     "execution_count": 75,
     "metadata": {},
     "output_type": "execute_result"
    }
   ],
   "source": [
    "#Checking the null value\n",
    "airbnb_data['review_scores_cleanliness'].isna().sum()"
   ]
  },
  {
   "cell_type": "code",
   "execution_count": 76,
   "metadata": {},
   "outputs": [],
   "source": [
    "#Filling in the null value\n",
    "airbnb_data.review_scores_cleanliness.fillna(\"0\", inplace=True)"
   ]
  },
  {
   "cell_type": "markdown",
   "metadata": {},
   "source": [
    "### Host listings count "
   ]
  },
  {
   "cell_type": "code",
   "execution_count": 77,
   "metadata": {},
   "outputs": [
    {
     "data": {
      "text/plain": [
       "12"
      ]
     },
     "execution_count": 77,
     "metadata": {},
     "output_type": "execute_result"
    }
   ],
   "source": [
    "#Checking the null value\n",
    "airbnb_data['host_listings_count'].isna().sum()"
   ]
  },
  {
   "cell_type": "code",
   "execution_count": 78,
   "metadata": {},
   "outputs": [],
   "source": [
    "#Filling in the null value\n",
    "airbnb_data.host_listings_count.fillna(\"0\", inplace=True)"
   ]
  },
  {
   "cell_type": "markdown",
   "metadata": {},
   "source": [
    "### COUNTRY"
   ]
  },
  {
   "cell_type": "markdown",
   "metadata": {},
   "source": [
    "Since I am working on only one country dataset, i.e Amsterdam, I feel that this column is not important. I will drop this column. "
   ]
  },
  {
   "cell_type": "code",
   "execution_count": 79,
   "metadata": {},
   "outputs": [],
   "source": [
    "#Dropping the column\n",
    "airbnb_data.drop(['country'], axis=1, inplace=True)"
   ]
  },
  {
   "cell_type": "markdown",
   "metadata": {},
   "source": [
    "### COUNTRY CODE"
   ]
  },
  {
   "cell_type": "markdown",
   "metadata": {},
   "source": [
    "As I have the county column, similarly country code column is also not important to me, as I am working only on Amsterdam country. So I will drop this column. "
   ]
  },
  {
   "cell_type": "code",
   "execution_count": 80,
   "metadata": {},
   "outputs": [],
   "source": [
    "#Dropping the column\n",
    "airbnb_data.drop(['country_code'], axis=1, inplace=True)"
   ]
  },
  {
   "cell_type": "markdown",
   "metadata": {},
   "source": [
    "### State"
   ]
  },
  {
   "cell_type": "code",
   "execution_count": 81,
   "metadata": {},
   "outputs": [
    {
     "data": {
      "text/plain": [
       "219"
      ]
     },
     "execution_count": 81,
     "metadata": {},
     "output_type": "execute_result"
    }
   ],
   "source": [
    "#Checking the null value\n",
    "airbnb_data['state'].isna().sum()"
   ]
  },
  {
   "cell_type": "code",
   "execution_count": 82,
   "metadata": {},
   "outputs": [],
   "source": [
    "#Filling in the null value\n",
    "airbnb_data.state.fillna(\"Unknown\", inplace=True)"
   ]
  },
  {
   "cell_type": "markdown",
   "metadata": {},
   "source": [
    "### City"
   ]
  },
  {
   "cell_type": "code",
   "execution_count": 83,
   "metadata": {},
   "outputs": [
    {
     "data": {
      "text/plain": [
       "4"
      ]
     },
     "execution_count": 83,
     "metadata": {},
     "output_type": "execute_result"
    }
   ],
   "source": [
    "#Checking the null value\n",
    "airbnb_data['city'].isna().sum()"
   ]
  },
  {
   "cell_type": "code",
   "execution_count": 84,
   "metadata": {},
   "outputs": [],
   "source": [
    "#Filling in the null value\n",
    "airbnb_data.state.fillna(\"Unknown\", inplace=True)"
   ]
  },
  {
   "cell_type": "markdown",
   "metadata": {},
   "source": [
    "### NEIGHBOURHOOD"
   ]
  },
  {
   "cell_type": "markdown",
   "metadata": {},
   "source": [
    "There are two variables, neighbourhood and neighbourhood_cleansed. I feel that having two similar columns wouldn't add great value. Hence I will delete of them. i.e neighbourhood. "
   ]
  },
  {
   "cell_type": "code",
   "execution_count": 85,
   "metadata": {},
   "outputs": [],
   "source": [
    "#Dropping the column\n",
    "airbnb_data.drop(['neighbourhood'], axis=1, inplace=True)"
   ]
  },
  {
   "cell_type": "markdown",
   "metadata": {},
   "source": [
    "### Name"
   ]
  },
  {
   "cell_type": "code",
   "execution_count": 86,
   "metadata": {},
   "outputs": [
    {
     "data": {
      "text/plain": [
       "35"
      ]
     },
     "execution_count": 86,
     "metadata": {},
     "output_type": "execute_result"
    }
   ],
   "source": [
    "#Checking the null value\n",
    "airbnb_data['name'].isna().sum()"
   ]
  },
  {
   "cell_type": "code",
   "execution_count": 87,
   "metadata": {},
   "outputs": [],
   "source": [
    "#Fill in the missing comments in the reviews dataset\n",
    "airbnb_data['name'].fillna('No_name', inplace = True)"
   ]
  },
  {
   "cell_type": "markdown",
   "metadata": {},
   "source": [
    "I feel that some more columns like host_identity_verified, zipcode, market, smart_location, is_location_exact, first_review, last_review, are too important features for data analysis. I am restricting to the features that are important for customers to consider while booking Airbnb based on the availability, and the factors that are important for predicting the price. Hence I will remove these columns from the dataset. "
   ]
  },
  {
   "cell_type": "code",
   "execution_count": 88,
   "metadata": {},
   "outputs": [],
   "source": [
    "#Dropping the columns\n",
    "airbnb_data.drop(['host_identity_verified', 'zipcode', 'market', 'smart_location', 'is_location_exact', 'first_review', 'last_review'], axis=1, inplace=True)"
   ]
  },
  {
   "cell_type": "markdown",
   "metadata": {},
   "source": [
    "I have cleaned the data and identified the important columns for analysis. I am displaying those columns and the final columns for analysis. I have imputed the missing values, transformed the values and changed the data types of the columns if required. Now I have a polished data for Exploratory Data Analysis and Data modelling. "
   ]
  },
  {
   "cell_type": "code",
   "execution_count": 89,
   "metadata": {
    "scrolled": false
   },
   "outputs": [
    {
     "data": {
      "text/plain": [
       "name                            object\n",
       "host_response_time              object\n",
       "host_response_rate              object\n",
       "host_is_superhost               object\n",
       "host_listings_count             object\n",
       "street                          object\n",
       "neighbourhood_cleansed          object\n",
       "city                            object\n",
       "state                           object\n",
       "latitude                       float64\n",
       "longitude                      float64\n",
       "property_type                   object\n",
       "room_type                       object\n",
       "accommodates                     int64\n",
       "bathrooms                      float64\n",
       "bedrooms                       float64\n",
       "beds                           float64\n",
       "amenities                       object\n",
       "price                          float64\n",
       "security_deposit               float64\n",
       "cleaning_fee                   float64\n",
       "guests_included                  int64\n",
       "extra_people                   float64\n",
       "minimum_nights                   int64\n",
       "maximum_nights                   int64\n",
       "calendar_updated                object\n",
       "availability_30                  int64\n",
       "availability_60                  int64\n",
       "availability_90                  int64\n",
       "availability_365                 int64\n",
       "number_of_reviews                int64\n",
       "review_scores_rating            object\n",
       "review_scores_accuracy          object\n",
       "review_scores_cleanliness       object\n",
       "review_scores_checkin           object\n",
       "review_scores_communication     object\n",
       "review_scores_location          object\n",
       "review_scores_value             object\n",
       "instant_bookable                 int64\n",
       "cancellation_policy             object\n",
       "dtype: object"
      ]
     },
     "execution_count": 89,
     "metadata": {},
     "output_type": "execute_result"
    }
   ],
   "source": [
    "#Checking the data types of the columns that would be used after cleaning the data\n",
    "airbnb_data.dtypes"
   ]
  },
  {
   "cell_type": "code",
   "execution_count": 90,
   "metadata": {},
   "outputs": [],
   "source": [
    "# Saving the cleaned dataset\n",
    "data_cleaned = airbnb_data.to_csv(r'C:\\Users\\upasa\\OneDrive\\Desktop\\Coding Challenge\\data_cleaned.csv', index=id, header=True)"
   ]
  }
 ],
 "metadata": {
  "kernelspec": {
   "display_name": "Python 3",
   "language": "python",
   "name": "python3"
  },
  "language_info": {
   "codemirror_mode": {
    "name": "ipython",
    "version": 3
   },
   "file_extension": ".py",
   "mimetype": "text/x-python",
   "name": "python",
   "nbconvert_exporter": "python",
   "pygments_lexer": "ipython3",
   "version": "3.7.0"
  }
 },
 "nbformat": 4,
 "nbformat_minor": 2
}
